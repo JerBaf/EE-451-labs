{
  "nbformat": 4,
  "nbformat_minor": 0,
  "metadata": {
    "colab": {
      "name": "YOLO_V5.ipynb",
      "provenance": [],
      "collapsed_sections": [
        "dyOSoOqBRhWQ"
      ]
    },
    "kernelspec": {
      "name": "python3",
      "display_name": "Python 3"
    },
    "language_info": {
      "name": "python"
    },
    "accelerator": "GPU"
  },
  "cells": [
    {
      "cell_type": "markdown",
      "source": [
        "# Install Dependencies\n",
        "\n"
      ],
      "metadata": {
        "id": "dyOSoOqBRhWQ"
      }
    },
    {
      "cell_type": "code",
      "execution_count": 8,
      "metadata": {
        "colab": {
          "base_uri": "https://localhost:8080/"
        },
        "id": "sw0wbqraRV87",
        "outputId": "91a052f0-8d59-428b-de9f-0d79a0992973"
      },
      "outputs": [
        {
          "output_type": "stream",
          "name": "stdout",
          "text": [
            "Cloning into 'yolov5'...\n",
            "remote: Enumerating objects: 12087, done.\u001b[K\n",
            "remote: Counting objects: 100% (7/7), done.\u001b[K\n",
            "remote: Compressing objects: 100% (7/7), done.\u001b[K\n",
            "remote: Total 12087 (delta 0), reused 2 (delta 0), pack-reused 12080\u001b[K\n",
            "Receiving objects: 100% (12087/12087), 11.90 MiB | 33.01 MiB/s, done.\n",
            "Resolving deltas: 100% (8384/8384), done.\n",
            "/content/yolov5/yolov5\n"
          ]
        }
      ],
      "source": [
        "# clone YOLOv5 repository\n",
        "!git clone https://github.com/ultralytics/yolov5  # clone repo\n",
        "%cd yolov5"
      ]
    },
    {
      "cell_type": "code",
      "source": [
        "# install dependencies as necessary\n",
        "!pip install -qr requirements.txt  # install dependencies (ignore errors)\n",
        "import torch\n",
        "\n",
        "from IPython.display import Image, clear_output  # to display images\n",
        "#from utils.google_utils import gdrive_download  # to download models/datasets\n",
        "\n",
        "# clear_output()\n",
        "print('Setup complete. Using torch %s %s' % (torch.__version__, torch.cuda.get_device_properties(0) if torch.cuda.is_available() else 'CPU'))"
      ],
      "metadata": {
        "colab": {
          "base_uri": "https://localhost:8080/"
        },
        "id": "JTtoflhuRqjR",
        "outputId": "8a64cf0d-5006-426e-dcc3-206124ced7ba"
      },
      "execution_count": 9,
      "outputs": [
        {
          "output_type": "stream",
          "name": "stdout",
          "text": [
            "Setup complete. Using torch 1.11.0+cu113 _CudaDeviceProperties(name='Tesla T4', major=7, minor=5, total_memory=15109MB, multi_processor_count=40)\n"
          ]
        }
      ]
    },
    {
      "cell_type": "markdown",
      "source": [
        "# Load Dataset"
      ],
      "metadata": {
        "id": "1wQVSHxxRgMG"
      }
    },
    {
      "cell_type": "code",
      "source": [
        "import yaml\n",
        "from google.colab import drive\n",
        "drive.mount('/content/gdrive')"
      ],
      "metadata": {
        "colab": {
          "base_uri": "https://localhost:8080/"
        },
        "id": "_iTo_0pXR-sW",
        "outputId": "1286ca17-4afe-49f9-da8d-124c869c1a53"
      },
      "execution_count": null,
      "outputs": [
        {
          "output_type": "stream",
          "name": "stdout",
          "text": [
            "Mounted at /content/gdrive\n"
          ]
        }
      ]
    },
    {
      "cell_type": "code",
      "source": [
        "!unzip \"/content/gdrive/MyDrive/card_dataset/cards_dataset.zip\" -d \"/content/dataset\""
      ],
      "metadata": {
        "id": "p92OY-i4UOLD"
      },
      "execution_count": null,
      "outputs": []
    },
    {
      "cell_type": "code",
      "source": [
        "!cp \"/content/gdrive/MyDrive/card_dataset/yolov5s.pt\" \"/content/yolov5/models/yolv5s.pt\""
      ],
      "metadata": {
        "id": "yWTN3CnXhFZ5"
      },
      "execution_count": null,
      "outputs": []
    },
    {
      "cell_type": "markdown",
      "source": [
        "# Train Model"
      ],
      "metadata": {
        "id": "EX8EtELET5-c"
      }
    },
    {
      "cell_type": "code",
      "source": [
        "# train yolov5s on custom data for 100 epochs\n",
        "# time its performance\n",
        "%%time\n",
        "%cd /content/yolov5/\n",
        "!python train.py --img 600 --batch 16 --epochs 6 --data /content/dataset/data.yaml --cfg ./models/yolov5s.yaml --weights /content/yolov5/models/yolov5s.pt --name yolov5s_results"
      ],
      "metadata": {
        "colab": {
          "base_uri": "https://localhost:8080/"
        },
        "id": "g7JrrKdVT70X",
        "outputId": "87958c01-f13c-40db-d0a9-2c4cf19fd7ca"
      },
      "execution_count": 7,
      "outputs": [
        {
          "output_type": "stream",
          "name": "stdout",
          "text": [
            "/content/yolov5\n",
            "\u001b[34m\u001b[1mtrain: \u001b[0mweights=/content/yolov5/models/yolov5s.pt, cfg=./models/yolov5s.yaml, data=/content/dataset/data.yaml, hyp=data/hyps/hyp.scratch-low.yaml, epochs=6, batch_size=16, imgsz=600, rect=False, resume=False, nosave=False, noval=False, noautoanchor=False, noplots=False, evolve=None, bucket=, cache=None, image_weights=False, device=, multi_scale=False, single_cls=False, optimizer=SGD, sync_bn=False, workers=8, project=runs/train, name=yolov5s_results, exist_ok=False, quad=False, cos_lr=False, label_smoothing=0.0, patience=100, freeze=[0], save_period=-1, local_rank=-1, entity=None, upload_dataset=False, bbox_interval=-1, artifact_alias=latest\n",
            "remote: Enumerating objects: 5, done.\u001b[K\n",
            "remote: Counting objects: 100% (5/5), done.\u001b[K\n",
            "remote: Compressing objects: 100% (5/5), done.\u001b[K\n",
            "remote: Total 5 (delta 0), reused 0 (delta 0), pack-reused 0\u001b[K\n",
            "Unpacking objects: 100% (5/5), done.\n",
            "From https://github.com/ultralytics/yolov5\n",
            "   1dcb774..9455796  master     -> origin/master\n",
            "\u001b[34m\u001b[1mgithub: \u001b[0m⚠️ YOLOv5 is out of date by 1 commit. Use `git pull` or `git clone https://github.com/ultralytics/yolov5` to update.\n",
            "YOLOv5 🚀 v6.1-223-g1dcb774 Python-3.7.13 torch-1.11.0+cu113 CUDA:0 (Tesla T4, 15110MiB)\n",
            "\n",
            "\u001b[34m\u001b[1mhyperparameters: \u001b[0mlr0=0.01, lrf=0.01, momentum=0.937, weight_decay=0.0005, warmup_epochs=3.0, warmup_momentum=0.8, warmup_bias_lr=0.1, box=0.05, cls=0.5, cls_pw=1.0, obj=1.0, obj_pw=1.0, iou_t=0.2, anchor_t=4.0, fl_gamma=0.0, hsv_h=0.015, hsv_s=0.7, hsv_v=0.4, degrees=0.0, translate=0.1, scale=0.5, shear=0.0, perspective=0.0, flipud=0.0, fliplr=0.5, mosaic=1.0, mixup=0.0, copy_paste=0.0\n",
            "\u001b[34m\u001b[1mWeights & Biases: \u001b[0mrun 'pip install wandb' to automatically track and visualize YOLOv5 🚀 runs (RECOMMENDED)\n",
            "\u001b[34m\u001b[1mTensorBoard: \u001b[0mStart with 'tensorboard --logdir runs/train', view at http://localhost:6006/\n",
            "Overriding model.yaml nc=80 with nc=52\n",
            "\n",
            "                 from  n    params  module                                  arguments                     \n",
            "  0                -1  1      3520  models.common.Conv                      [3, 32, 6, 2, 2]              \n",
            "  1                -1  1     18560  models.common.Conv                      [32, 64, 3, 2]                \n",
            "  2                -1  1     18816  models.common.C3                        [64, 64, 1]                   \n",
            "  3                -1  1     73984  models.common.Conv                      [64, 128, 3, 2]               \n",
            "  4                -1  2    115712  models.common.C3                        [128, 128, 2]                 \n",
            "  5                -1  1    295424  models.common.Conv                      [128, 256, 3, 2]              \n",
            "  6                -1  3    625152  models.common.C3                        [256, 256, 3]                 \n",
            "  7                -1  1   1180672  models.common.Conv                      [256, 512, 3, 2]              \n",
            "  8                -1  1   1182720  models.common.C3                        [512, 512, 1]                 \n",
            "  9                -1  1    656896  models.common.SPPF                      [512, 512, 5]                 \n",
            " 10                -1  1    131584  models.common.Conv                      [512, 256, 1, 1]              \n",
            " 11                -1  1         0  torch.nn.modules.upsampling.Upsample    [None, 2, 'nearest']          \n",
            " 12           [-1, 6]  1         0  models.common.Concat                    [1]                           \n",
            " 13                -1  1    361984  models.common.C3                        [512, 256, 1, False]          \n",
            " 14                -1  1     33024  models.common.Conv                      [256, 128, 1, 1]              \n",
            " 15                -1  1         0  torch.nn.modules.upsampling.Upsample    [None, 2, 'nearest']          \n",
            " 16           [-1, 4]  1         0  models.common.Concat                    [1]                           \n",
            " 17                -1  1     90880  models.common.C3                        [256, 128, 1, False]          \n",
            " 18                -1  1    147712  models.common.Conv                      [128, 128, 3, 2]              \n",
            " 19          [-1, 14]  1         0  models.common.Concat                    [1]                           \n",
            " 20                -1  1    296448  models.common.C3                        [256, 256, 1, False]          \n",
            " 21                -1  1    590336  models.common.Conv                      [256, 256, 3, 2]              \n",
            " 22          [-1, 10]  1         0  models.common.Concat                    [1]                           \n",
            " 23                -1  1   1182720  models.common.C3                        [512, 512, 1, False]          \n",
            " 24      [17, 20, 23]  1    153729  models.yolo.Detect                      [52, [[10, 13, 16, 30, 33, 23], [30, 61, 62, 45, 59, 119], [116, 90, 156, 198, 373, 326]], [128, 256, 512]]\n",
            "YOLOv5s summary: 270 layers, 7159873 parameters, 7159873 gradients, 16.3 GFLOPs\n",
            "\n",
            "Transferred 342/349 items from /content/yolov5/models/yolov5s.pt\n",
            "\u001b[34m\u001b[1mAMP: \u001b[0mchecks passed ✅\n",
            "WARNING: --img-size 600 must be multiple of max stride 32, updating to 608\n",
            "Scaled weight_decay = 0.0005\n",
            "\u001b[34m\u001b[1moptimizer:\u001b[0m SGD with parameter groups 57 weight (no decay), 60 weight, 60 bias\n",
            "\u001b[34m\u001b[1malbumentations: \u001b[0mversion 1.0.3 required by YOLOv5, but version 0.1.12 is currently installed\n",
            "\u001b[34m\u001b[1mtrain: \u001b[0mScanning '/content/dataset/train/labels.cache' images and labels... 21210 found, 0 missing, 0 empty, 0 corrupt: 100% 21210/21210 [00:00<?, ?it/s]\n",
            "\u001b[34m\u001b[1mval: \u001b[0mScanning '/content/dataset/valid/labels.cache' images and labels... 2020 found, 0 missing, 0 empty, 0 corrupt: 100% 2020/2020 [00:00<?, ?it/s]\n",
            "Plotting labels to runs/train/yolov5s_results2/labels.jpg... \n",
            "\n",
            "\u001b[34m\u001b[1mAutoAnchor: \u001b[0m6.00 anchors/target, 1.000 Best Possible Recall (BPR). Current anchors are a good fit to dataset ✅\n",
            "Image sizes 608 train, 608 val\n",
            "Using 2 dataloader workers\n",
            "Logging results to \u001b[1mruns/train/yolov5s_results2\u001b[0m\n",
            "Starting training for 6 epochs...\n",
            "\n",
            "     Epoch   gpu_mem       box       obj       cls    labels  img_size\n",
            "       0/5     3.33G    0.0541   0.02841   0.09574        53       608: 100% 1326/1326 [11:43<00:00,  1.88it/s]\n",
            "               Class     Images     Labels          P          R     mAP@.5 mAP@.5:.95: 100% 64/64 [00:26<00:00,  2.39it/s]\n",
            "                 all       2020       8080      0.016          1     0.0242     0.0173\n",
            "\n",
            "     Epoch   gpu_mem       box       obj       cls    labels  img_size\n",
            "       1/5     4.15G    0.0308   0.01704   0.09348        57       608: 100% 1326/1326 [11:36<00:00,  1.90it/s]\n",
            "               Class     Images     Labels          P          R     mAP@.5 mAP@.5:.95: 100% 64/64 [00:26<00:00,  2.41it/s]\n",
            "                 all       2020       8080     0.0184          1     0.0251     0.0212\n",
            "\n",
            "     Epoch   gpu_mem       box       obj       cls    labels  img_size\n",
            "       2/5     4.15G   0.02744    0.0152   0.09289        33       608: 100% 1326/1326 [11:35<00:00,  1.91it/s]\n",
            "               Class     Images     Labels          P          R     mAP@.5 mAP@.5:.95: 100% 64/64 [00:26<00:00,  2.44it/s]\n",
            "                 all       2020       8080     0.0184          1     0.0441     0.0369\n",
            "\n",
            "     Epoch   gpu_mem       box       obj       cls    labels  img_size\n",
            "       3/5     4.15G   0.02251   0.01349   0.09014        47       608: 100% 1326/1326 [11:29<00:00,  1.92it/s]\n",
            "               Class     Images     Labels          P          R     mAP@.5 mAP@.5:.95: 100% 64/64 [00:26<00:00,  2.46it/s]\n",
            "                 all       2020       8080      0.397      0.235      0.124      0.104\n",
            "\n",
            "     Epoch   gpu_mem       box       obj       cls    labels  img_size\n",
            "       4/5     4.15G   0.02242   0.01306   0.08074        59       608: 100% 1326/1326 [11:27<00:00,  1.93it/s]\n",
            "               Class     Images     Labels          P          R     mAP@.5 mAP@.5:.95: 100% 64/64 [00:25<00:00,  2.49it/s]\n",
            "                 all       2020       8080      0.286      0.625      0.322      0.267\n",
            "\n",
            "     Epoch   gpu_mem       box       obj       cls    labels  img_size\n",
            "       5/5     4.15G   0.02163   0.01255    0.0631        68       608: 100% 1326/1326 [11:28<00:00,  1.93it/s]\n",
            "               Class     Images     Labels          P          R     mAP@.5 mAP@.5:.95: 100% 64/64 [00:25<00:00,  2.48it/s]\n",
            "                 all       2020       8080      0.321      0.757      0.444      0.383\n",
            "\n",
            "6 epochs completed in 1.202 hours.\n",
            "Optimizer stripped from runs/train/yolov5s_results2/weights/last.pt, 14.7MB\n",
            "Optimizer stripped from runs/train/yolov5s_results2/weights/best.pt, 14.7MB\n",
            "\n",
            "Validating runs/train/yolov5s_results2/weights/best.pt...\n",
            "Fusing layers... \n",
            "YOLOv5s summary: 213 layers, 7150369 parameters, 0 gradients, 16.2 GFLOPs\n",
            "               Class     Images     Labels          P          R     mAP@.5 mAP@.5:.95: 100% 64/64 [00:29<00:00,  2.19it/s]\n",
            "                 all       2020       8080      0.321      0.757      0.444      0.383\n",
            "                 10C       2020        172      0.526          1      0.546      0.475\n",
            "                 10D       2020        161      0.509          1       0.58      0.513\n",
            "                 10H       2020        148      0.437          1      0.653      0.587\n",
            "                 10S       2020        153      0.468          1      0.543      0.486\n",
            "                  2C       2020        144      0.263      0.993      0.547      0.482\n",
            "                  2D       2020        165      0.269          1      0.579      0.476\n",
            "                  2H       2020        183      0.276      0.961      0.365      0.314\n",
            "                  2S       2020        137      0.284          1      0.542      0.479\n",
            "                  3C       2020        176      0.276          1      0.554      0.495\n",
            "                  3D       2020        145      0.186       0.83      0.281      0.246\n",
            "                  3H       2020        168      0.227      0.905      0.278      0.246\n",
            "                  3S       2020        142      0.234      0.901      0.284      0.252\n",
            "                  4C       2020        173      0.268          1      0.484      0.421\n",
            "                  4D       2020        119        0.2          1      0.341      0.296\n",
            "                  4H       2020        146      0.258          1      0.547      0.459\n",
            "                  4S       2020        145      0.234      0.979      0.334      0.297\n",
            "                  5C       2020        177      0.279     0.0502      0.293      0.259\n",
            "                  5D       2020        182      0.642      0.022      0.335      0.294\n",
            "                  5H       2020        166          1          0      0.152      0.136\n",
            "                  5S       2020        157      0.454     0.0573      0.303      0.274\n",
            "                  6C       2020        167      0.253      0.605       0.29      0.257\n",
            "                  6D       2020        175      0.186     0.0571      0.191       0.17\n",
            "                  6H       2020        113      0.212      0.642      0.243      0.217\n",
            "                  6S       2020        129      0.192      0.519      0.216      0.194\n",
            "                  7C       2020        145      0.478          1      0.497      0.432\n",
            "                  7D       2020        167      0.498          1      0.619      0.499\n",
            "                  7H       2020        160      0.458          1      0.561      0.475\n",
            "                  7S       2020        148      0.493          1      0.621      0.546\n",
            "                  8C       2020        152      0.296      0.289      0.272      0.245\n",
            "                  8D       2020        171      0.471     0.0994      0.308      0.279\n",
            "                  8H       2020        166      0.282      0.711      0.345      0.314\n",
            "                  8S       2020        152      0.238      0.184      0.233      0.207\n",
            "                  9C       2020        147     0.0886     0.0748      0.137      0.122\n",
            "                  9D       2020        140      0.124      0.179      0.129      0.112\n",
            "                  9H       2020        172      0.221      0.203      0.252      0.226\n",
            "                  9S       2020        154      0.111      0.123      0.151      0.135\n",
            "                  AC       2020        181      0.289          1      0.578      0.501\n",
            "                  AD       2020        146      0.253          1      0.395      0.327\n",
            "                  AH       2020        166      0.289          1      0.602       0.49\n",
            "                  AS       2020        144      0.228          1      0.465      0.404\n",
            "                  JC       2020        137      0.232          1      0.521      0.455\n",
            "                  JD       2020        145      0.268      0.993      0.597      0.511\n",
            "                  JH       2020        151      0.255          1      0.515      0.446\n",
            "                  JS       2020        144      0.251          1      0.679      0.581\n",
            "                  KC       2020        198      0.607          1      0.945      0.734\n",
            "                  KD       2020        144      0.244          1      0.514      0.455\n",
            "                  KH       2020        160      0.264          1      0.561      0.496\n",
            "                  KS       2020        118      0.328          1      0.716      0.591\n",
            "                  QC       2020        142      0.261          1      0.569      0.489\n",
            "                  QD       2020        174      0.347      0.994      0.509      0.434\n",
            "                  QH       2020        152      0.379          1      0.798      0.603\n",
            "                  QS       2020        161      0.282          1      0.535      0.468\n",
            "Results saved to \u001b[1mruns/train/yolov5s_results2\u001b[0m\n",
            "CPU times: user 29.7 s, sys: 4.55 s, total: 34.2 s\n",
            "Wall time: 1h 13min 2s\n"
          ]
        }
      ]
    }
  ]
}