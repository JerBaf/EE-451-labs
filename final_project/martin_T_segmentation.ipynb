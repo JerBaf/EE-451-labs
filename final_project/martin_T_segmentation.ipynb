{
 "cells": [
  {
   "cell_type": "markdown",
   "metadata": {},
   "source": [
    "# Jeremy notebook for final project"
   ]
  },
  {
   "cell_type": "code",
   "execution_count": 54,
   "metadata": {},
   "outputs": [
    {
     "name": "stdout",
     "output_type": "stream",
     "text": [
      "The autoreload extension is already loaded. To reload it, use:\n",
      "  %reload_ext autoreload\n"
     ]
    }
   ],
   "source": [
    "import cv2\n",
    "import numpy as np\n",
    "import matplotlib.pyplot as plt\n",
    "import scipy.signal\n",
    "import k_means\n",
    "from helpers import *\n",
    "%load_ext autoreload\n",
    "%autoreload 2"
   ]
  },
  {
   "cell_type": "markdown",
   "metadata": {},
   "source": [
    "## Table segmentation"
   ]
  },
  {
   "cell_type": "code",
   "execution_count": 48,
   "metadata": {},
   "outputs": [],
   "source": [
    "def segment_table(path):\n",
    "    reduction_factor = 30 #30\n",
    "    table_im_big = cv2.imread(path)\n",
    "    target_size = (int(table_im_big.shape[1]/reduction_factor),\n",
    "                   int(table_im_big.shape[0]/reduction_factor))\n",
    "    table_im = cv2.resize(table_im_big,target_size)\n",
    "    \n",
    "    gray_sobel = cv2.cvtColor(sobel_filter(table_im,balance=1), cv2.COLOR_BGR2GRAY)\n",
    "    log = LoG(gray_sobel,sigma=1,tr=20)\n",
    "\n",
    "    ### Detect center\n",
    "    kernel = np.ones((7,7))\n",
    "    inverse_log = -log + 1\n",
    "    start_mask = cv2.morphologyEx(inverse_log, cv2.MORPH_OPEN, kernel)\n",
    "    x_center, y_center = start_mask.shape[0]/2,start_mask.shape[1]/2\n",
    "    start_indices = zip(np.where(start_mask == 1)[0],np.where(start_mask == 1)[1])\n",
    "    start = sorted(start_indices,key=lambda l: np.power((l[0]-x_center,l[1]-y_center),2).sum())[0]\n",
    "\n",
    "    ### Segment table\n",
    "    kernel = np.ones((2,2))\n",
    "    inverse_log = cv2.morphologyEx(inverse_log, cv2.MORPH_OPEN, kernel)\n",
    "    segmentation = np.zeros(inverse_log.shape,dtype=np.uint8)\n",
    "    for i in iterative_grow(inverse_log,start[0],start[1],0.5):\n",
    "        segmentation[i[0],i[1]] = 255\n",
    "    corners = retrieve_corners_opt(segmentation)\n",
    "    table_segmentation = extract_table(table_im_big,corners,reduction_factor)\n",
    "\n",
    "    return table_segmentation"
   ]
  },
  {
   "cell_type": "code",
   "execution_count": 262,
   "metadata": {},
   "outputs": [
    {
     "ename": "IndexError",
     "evalue": "list index out of range",
     "output_type": "error",
     "traceback": [
      "\u001b[0;31m---------------------------------------------------------------------------\u001b[0m",
      "\u001b[0;31mIndexError\u001b[0m                                Traceback (most recent call last)",
      "\u001b[0;32m/tmp/ipykernel_2925/1923089136.py\u001b[0m in \u001b[0;36m<module>\u001b[0;34m\u001b[0m\n\u001b[0;32m----> 1\u001b[0;31m \u001b[0mtable_segmentation\u001b[0m \u001b[0;34m=\u001b[0m \u001b[0msegment_table\u001b[0m\u001b[0;34m(\u001b[0m\u001b[0;34m\"data/train/train_01.jpg\"\u001b[0m\u001b[0;34m)\u001b[0m\u001b[0;34m\u001b[0m\u001b[0;34m\u001b[0m\u001b[0m\n\u001b[0m\u001b[1;32m      2\u001b[0m \u001b[0;34m\u001b[0m\u001b[0m\n\u001b[1;32m      3\u001b[0m \u001b[0;31m# Params\u001b[0m\u001b[0;34m\u001b[0m\u001b[0;34m\u001b[0m\u001b[0m\n\u001b[1;32m      4\u001b[0m \u001b[0mbottom_boundary\u001b[0m \u001b[0;34m=\u001b[0m \u001b[0;36m2500\u001b[0m\u001b[0;34m\u001b[0m\u001b[0;34m\u001b[0m\u001b[0m\n\u001b[1;32m      5\u001b[0m \u001b[0mT\u001b[0m \u001b[0;34m=\u001b[0m \u001b[0;36m500\u001b[0m\u001b[0;34m\u001b[0m\u001b[0;34m\u001b[0m\u001b[0m\n",
      "\u001b[0;32m/tmp/ipykernel_2925/3898405963.py\u001b[0m in \u001b[0;36msegment_table\u001b[0;34m(path)\u001b[0m\n\u001b[1;32m     23\u001b[0m     \u001b[0;32mfor\u001b[0m \u001b[0mi\u001b[0m \u001b[0;32min\u001b[0m \u001b[0miterative_grow\u001b[0m\u001b[0;34m(\u001b[0m\u001b[0minverse_log\u001b[0m\u001b[0;34m,\u001b[0m\u001b[0mstart\u001b[0m\u001b[0;34m[\u001b[0m\u001b[0;36m0\u001b[0m\u001b[0;34m]\u001b[0m\u001b[0;34m,\u001b[0m\u001b[0mstart\u001b[0m\u001b[0;34m[\u001b[0m\u001b[0;36m1\u001b[0m\u001b[0;34m]\u001b[0m\u001b[0;34m,\u001b[0m\u001b[0;36m0.5\u001b[0m\u001b[0;34m)\u001b[0m\u001b[0;34m:\u001b[0m\u001b[0;34m\u001b[0m\u001b[0;34m\u001b[0m\u001b[0m\n\u001b[1;32m     24\u001b[0m         \u001b[0msegmentation\u001b[0m\u001b[0;34m[\u001b[0m\u001b[0mi\u001b[0m\u001b[0;34m[\u001b[0m\u001b[0;36m0\u001b[0m\u001b[0;34m]\u001b[0m\u001b[0;34m,\u001b[0m\u001b[0mi\u001b[0m\u001b[0;34m[\u001b[0m\u001b[0;36m1\u001b[0m\u001b[0;34m]\u001b[0m\u001b[0;34m]\u001b[0m \u001b[0;34m=\u001b[0m \u001b[0;36m255\u001b[0m\u001b[0;34m\u001b[0m\u001b[0;34m\u001b[0m\u001b[0m\n\u001b[0;32m---> 25\u001b[0;31m     \u001b[0mcorners\u001b[0m \u001b[0;34m=\u001b[0m \u001b[0mretrieve_corners_opt\u001b[0m\u001b[0;34m(\u001b[0m\u001b[0msegmentation\u001b[0m\u001b[0;34m)\u001b[0m\u001b[0;34m\u001b[0m\u001b[0;34m\u001b[0m\u001b[0m\n\u001b[0m\u001b[1;32m     26\u001b[0m     \u001b[0mtable_segmentation\u001b[0m \u001b[0;34m=\u001b[0m \u001b[0mextract_table\u001b[0m\u001b[0;34m(\u001b[0m\u001b[0mtable_im_big\u001b[0m\u001b[0;34m,\u001b[0m\u001b[0mcorners\u001b[0m\u001b[0;34m,\u001b[0m\u001b[0mreduction_factor\u001b[0m\u001b[0;34m)\u001b[0m\u001b[0;34m\u001b[0m\u001b[0;34m\u001b[0m\u001b[0m\n\u001b[1;32m     27\u001b[0m \u001b[0;34m\u001b[0m\u001b[0m\n",
      "\u001b[0;32m~/repos/EE-451-labs/final_project/helpers.py\u001b[0m in \u001b[0;36mretrieve_corners_opt\u001b[0;34m(mask)\u001b[0m\n\u001b[1;32m     86\u001b[0m     \u001b[0mtop_sort\u001b[0m \u001b[0;34m=\u001b[0m \u001b[0msorted\u001b[0m\u001b[0;34m(\u001b[0m\u001b[0mzip\u001b[0m\u001b[0;34m(\u001b[0m\u001b[0mindices\u001b[0m\u001b[0;34m[\u001b[0m\u001b[0;36m1\u001b[0m\u001b[0;34m]\u001b[0m\u001b[0;34m-\u001b[0m\u001b[0mindices\u001b[0m\u001b[0;34m[\u001b[0m\u001b[0;36m0\u001b[0m\u001b[0;34m]\u001b[0m\u001b[0;34m,\u001b[0m\u001b[0mrange\u001b[0m\u001b[0;34m(\u001b[0m\u001b[0mindices\u001b[0m\u001b[0;34m[\u001b[0m\u001b[0;36m0\u001b[0m\u001b[0;34m]\u001b[0m\u001b[0;34m.\u001b[0m\u001b[0mshape\u001b[0m\u001b[0;34m[\u001b[0m\u001b[0;36m0\u001b[0m\u001b[0;34m]\u001b[0m\u001b[0;34m)\u001b[0m\u001b[0;34m)\u001b[0m\u001b[0;34m,\u001b[0m\u001b[0mkey\u001b[0m\u001b[0;34m=\u001b[0m\u001b[0;32mlambda\u001b[0m \u001b[0ml\u001b[0m\u001b[0;34m:\u001b[0m \u001b[0ml\u001b[0m\u001b[0;34m[\u001b[0m\u001b[0;36m0\u001b[0m\u001b[0;34m]\u001b[0m\u001b[0;34m)\u001b[0m\u001b[0;34m\u001b[0m\u001b[0;34m\u001b[0m\u001b[0m\n\u001b[1;32m     87\u001b[0m     \u001b[0mright_sort\u001b[0m \u001b[0;34m=\u001b[0m \u001b[0msorted\u001b[0m\u001b[0;34m(\u001b[0m\u001b[0mzip\u001b[0m\u001b[0;34m(\u001b[0m\u001b[0mindices\u001b[0m\u001b[0;34m[\u001b[0m\u001b[0;36m1\u001b[0m\u001b[0;34m]\u001b[0m\u001b[0;34m+\u001b[0m\u001b[0mindices\u001b[0m\u001b[0;34m[\u001b[0m\u001b[0;36m0\u001b[0m\u001b[0;34m]\u001b[0m\u001b[0;34m,\u001b[0m\u001b[0mrange\u001b[0m\u001b[0;34m(\u001b[0m\u001b[0mindices\u001b[0m\u001b[0;34m[\u001b[0m\u001b[0;36m0\u001b[0m\u001b[0;34m]\u001b[0m\u001b[0;34m.\u001b[0m\u001b[0mshape\u001b[0m\u001b[0;34m[\u001b[0m\u001b[0;36m0\u001b[0m\u001b[0;34m]\u001b[0m\u001b[0;34m)\u001b[0m\u001b[0;34m)\u001b[0m\u001b[0;34m,\u001b[0m\u001b[0mkey\u001b[0m\u001b[0;34m=\u001b[0m\u001b[0;32mlambda\u001b[0m \u001b[0ml\u001b[0m\u001b[0;34m:\u001b[0m \u001b[0ml\u001b[0m\u001b[0;34m[\u001b[0m\u001b[0;36m0\u001b[0m\u001b[0;34m]\u001b[0m\u001b[0;34m)\u001b[0m\u001b[0;34m\u001b[0m\u001b[0;34m\u001b[0m\u001b[0m\n\u001b[0;32m---> 88\u001b[0;31m     \u001b[0mtop_idx\u001b[0m \u001b[0;34m=\u001b[0m \u001b[0mtop_sort\u001b[0m\u001b[0;34m[\u001b[0m\u001b[0;34m-\u001b[0m\u001b[0;36m1\u001b[0m\u001b[0;34m]\u001b[0m\u001b[0;34m\u001b[0m\u001b[0;34m\u001b[0m\u001b[0m\n\u001b[0m\u001b[1;32m     89\u001b[0m     \u001b[0mbot_idx\u001b[0m \u001b[0;34m=\u001b[0m \u001b[0mtop_sort\u001b[0m\u001b[0;34m[\u001b[0m\u001b[0;36m0\u001b[0m\u001b[0;34m]\u001b[0m\u001b[0;34m\u001b[0m\u001b[0;34m\u001b[0m\u001b[0m\n\u001b[1;32m     90\u001b[0m     \u001b[0mright_idx\u001b[0m \u001b[0;34m=\u001b[0m \u001b[0mright_sort\u001b[0m\u001b[0;34m[\u001b[0m\u001b[0;34m-\u001b[0m\u001b[0;36m1\u001b[0m\u001b[0;34m]\u001b[0m\u001b[0;34m\u001b[0m\u001b[0;34m\u001b[0m\u001b[0m\n",
      "\u001b[0;31mIndexError\u001b[0m: list index out of range"
     ]
    }
   ],
   "source": [
    "table_segmentation = segment_table(\"data/train/train_01.jpg\")\n",
    "\n",
    "# Params\n",
    "bottom_boundary = 2500\n",
    "T = 500\n",
    "horizontal_buffer = 50\n",
    "vertical_buffer = 50\n",
    "\n",
    "# Cut out buttom of image with supposed T-cards\n",
    "T_cards = table_segmentation[bottom_boundary:-1,:]\n",
    "\n",
    "# Attempt to remove some noise\n",
    "kernel = np.ones((5,5),np.float32)/25\n",
    "T_cards_filtered = cv2.filter2D(T_cards,-1,kernel)\n",
    "\n",
    "canny = cv2.Canny(T_cards_filtered, 10, 200)\n",
    "\n",
    "# Get card boundaries\n",
    "cards_horizontal_sum = np.sum(canny, axis=0)\n",
    "left_boundary = np.min(np.where(cards_horizontal_sum > T)) - horizontal_buffer\n",
    "right_boundary = np.max(np.where(cards_horizontal_sum > T)) + horizontal_buffer\n",
    "diff = right_boundary - left_boundary\n",
    "split = int(diff/5)\n",
    "\n",
    "# Separate cards roughly\n",
    "cards = []\n",
    "for i in range(5):\n",
    "    cur_low = left_boundary + i*split\n",
    "    cur_high = cur_low + split\n",
    "    canny_cut = canny[:,cur_low:cur_high]\n",
    "    canny_vertical_sum = np.sum(canny_cut, axis=1)\n",
    "    upper_boundary = np.min(np.where(canny_vertical_sum > T)) - vertical_buffer\n",
    "    lower_boundary = np.max(np.where(canny_vertical_sum > T)) + vertical_buffer\n",
    "    cards.append(T_cards[upper_boundary:lower_boundary,cur_low:cur_high])\n",
    "    \n",
    "# plot\n",
    "fig, ax = plt.subplots(1,2)\n",
    "fig.set_size_inches(18.5, 10.5)\n",
    "ax[0].imshow(T_cards_filtered)\n",
    "ax[1].imshow(canny)\n",
    "\n",
    "fig, ax = plt.subplots(1,5)\n",
    "for i in range(5):\n",
    "    ax[i].imshow(cards[i])\n",
    "    \n",
    "print(np.min(np.where(np.sum(canny,axis=0) > 500)), np.max(np.where(np.sum(canny,axis=0) > 500)))"
   ]
  },
  {
   "cell_type": "code",
   "execution_count": null,
   "metadata": {},
   "outputs": [],
   "source": []
  }
 ],
 "metadata": {
  "kernelspec": {
   "display_name": "Python 3 (ipykernel)",
   "language": "python",
   "name": "python3"
  },
  "language_info": {
   "codemirror_mode": {
    "name": "ipython",
    "version": 3
   },
   "file_extension": ".py",
   "mimetype": "text/x-python",
   "name": "python",
   "nbconvert_exporter": "python",
   "pygments_lexer": "ipython3",
   "version": "3.9.7"
  }
 },
 "nbformat": 4,
 "nbformat_minor": 4
}
