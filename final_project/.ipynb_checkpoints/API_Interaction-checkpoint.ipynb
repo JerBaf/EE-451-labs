{
 "cells": [
  {
   "cell_type": "markdown",
   "metadata": {},
   "source": [
    "# API interaction"
   ]
  },
  {
   "cell_type": "markdown",
   "metadata": {},
   "source": [
    "## Test with indirect approach"
   ]
  },
  {
   "cell_type": "markdown",
   "metadata": {},
   "source": [
    "- iapr2022project@gmail.com\n",
    "- ProjectAPI"
   ]
  },
  {
   "cell_type": "code",
   "execution_count": 141,
   "metadata": {},
   "outputs": [],
   "source": [
    "from selenium.webdriver.common.keys import Keys\n",
    "from selenium.webdriver.chrome.options import Options\n",
    "from webdriver_manager.chrome import ChromeDriverManager\n",
    "from selenium import webdriver\n",
    "from selenium.webdriver.common.by import By\n",
    "import selenium\n",
    "import time\n",
    "import pathlib\n",
    "import json\n",
    "import re\n",
    "import numpy as np\n",
    "from joblib import Parallel, delayed"
   ]
  },
  {
   "cell_type": "code",
   "execution_count": 107,
   "metadata": {},
   "outputs": [],
   "source": [
    "def setup_browser(headless):\n",
    "    # Setup browser\n",
    "    chrome_options = Options()\n",
    "    if headless:\n",
    "        chrome_options.add_argument(\"headless\")\n",
    "    chrome_options.add_experimental_option(\"prefs\", {\n",
    "        \"download.default_directory\": str(pathlib.Path().resolve()),\n",
    "        \"download.prompt_for_download\": False,\n",
    "        \"download.directory_upgrade\": True,\n",
    "        \"safebrowsing.enabled\": False\n",
    "    })\n",
    "    chrome_options.add_argument(\"--log-level=3\")\n",
    "    driver = webdriver.Chrome(\n",
    "        ChromeDriverManager().install(), options=chrome_options)\n",
    "    params = {'behavior': 'allow',\n",
    "              'downloadPath': str(pathlib.Path().resolve())}\n",
    "    driver.execute_cdp_cmd('Page.setDownloadBehavior', params)\n",
    "    return driver"
   ]
  },
  {
   "cell_type": "code",
   "execution_count": 119,
   "metadata": {},
   "outputs": [
    {
     "name": "stderr",
     "output_type": "stream",
     "text": [
      "\n",
      "\n",
      "====== WebDriver manager ======\n",
      "Current google-chrome version is 101.0.4951\n",
      "Get LATEST driver version for 101.0.4951\n",
      "Driver [C:\\Users\\jerem\\.wdm\\drivers\\chromedriver\\win32\\101.0.4951.41\\chromedriver.exe] found in cache\n",
      "<ipython-input-107-2839086dfb5c>:13: DeprecationWarning: executable_path has been deprecated, please pass in a Service object\n",
      "  driver = webdriver.Chrome(\n"
     ]
    }
   ],
   "source": [
    "driver = setup_browser(False)\n",
    "startup_page = \"https://universe.roboflow.com/augmented-startups/playing-cards-ow27d\"\n",
    "driver.get(startup_page)"
   ]
  },
  {
   "cell_type": "code",
   "execution_count": 120,
   "metadata": {},
   "outputs": [],
   "source": [
    "sign_in  = driver.find_element(By.CSS_SELECTOR,\"#content > div.navbarContainer > nav > div:nth-child(5) > div > a.signIn.signInButton\")\n",
    "sign_in.click()"
   ]
  },
  {
   "cell_type": "code",
   "execution_count": 121,
   "metadata": {},
   "outputs": [],
   "source": [
    "mail = driver.find_element(By.CSS_SELECTOR,\"#message > div > div.firebaseui-card-content > form > ul > li:nth-child(1) > button\")\n",
    "mail.click()"
   ]
  },
  {
   "cell_type": "code",
   "execution_count": 122,
   "metadata": {},
   "outputs": [],
   "source": [
    "mail_enter = driver.find_element(By.CSS_SELECTOR,\"#message > div > form > div.firebaseui-card-content > div > div.firebaseui-textfield.mdl-textfield.mdl-js-textfield.mdl-textfield--floating-label.is-upgraded > input\")\n",
    "mail_enter.send_keys(\"iapr2022project@gmail.com\")"
   ]
  },
  {
   "cell_type": "code",
   "execution_count": 123,
   "metadata": {},
   "outputs": [],
   "source": [
    "mail_validation = driver.find_element(By.CSS_SELECTOR,\"#message > div > form > div.firebaseui-card-actions > div > button.firebaseui-id-submit.firebaseui-button.mdl-button.mdl-js-button.mdl-button--raised.mdl-button--colored\")\n",
    "mail_validation.click()"
   ]
  },
  {
   "cell_type": "code",
   "execution_count": 124,
   "metadata": {},
   "outputs": [],
   "source": [
    "password = driver.find_element(By.CSS_SELECTOR,\"#message > div > form > div.firebaseui-card-content > div:nth-child(3) > input\")\n",
    "password.send_keys(\"ProjectAPI\")"
   ]
  },
  {
   "cell_type": "code",
   "execution_count": 125,
   "metadata": {},
   "outputs": [],
   "source": [
    "submit_sign_in = driver.find_element(By.CSS_SELECTOR,\"#message > div > form > div.firebaseui-card-actions > div.firebaseui-form-actions > button\")\n",
    "submit_sign_in.click()"
   ]
  },
  {
   "cell_type": "code",
   "execution_count": 130,
   "metadata": {},
   "outputs": [],
   "source": [
    "a = driver.find_element(By.CSS_SELECTOR,\"#fileInput\")"
   ]
  },
  {
   "cell_type": "code",
   "execution_count": 131,
   "metadata": {},
   "outputs": [],
   "source": [
    "a.send_keys(\"C:/EPFL/master/MA_2/ImageProcessing/EE-451-labs/final_project/data/symbols/test_image_3.jpg\")"
   ]
  },
  {
   "cell_type": "code",
   "execution_count": 129,
   "metadata": {},
   "outputs": [],
   "source": [
    "try:\n",
    "    driver.delete_all_cookies()\n",
    "    time.sleep(1)\n",
    "    wrong = driver.find_element(By.CSS_SELECTOR,\"#swal2-title\")\n",
    "    time.sleep(1)\n",
    "    wrong_button = driver.find_element(By.CSS_SELECTOR,\"body > div.swal2-container.swal2-center.createDatasetDialog.swal2-backdrop-show > div > div.swal2-actions.rightActions > button.swal2-confirm.actionButton.primary\")\n",
    "    wrong_button.click()\n",
    "    time.sleep(0.5)\n",
    "    driver.refresh()\n",
    "except:\n",
    "    ..."
   ]
  },
  {
   "cell_type": "code",
   "execution_count": 79,
   "metadata": {},
   "outputs": [],
   "source": [
    "annotations =  driver.find_element(By.CSS_SELECTOR,\"#inferenceJson\")"
   ]
  },
  {
   "cell_type": "code",
   "execution_count": 198,
   "metadata": {},
   "outputs": [],
   "source": [
    "s = annotations.text\n",
    "s = s.replace(\"\\n\",\"\")\n",
    "s = s.replace(\" \",\"\")\n",
    "s = s.replace(\"\\\"\",\"\")\n",
    "l = s.split(\",\")\n",
    "l = list(map(lambda s: s.split(\"{\")[-1],l))\n",
    "l = list(map(lambda s: s.split(\"}\")[0],l))"
   ]
  },
  {
   "cell_type": "code",
   "execution_count": 199,
   "metadata": {},
   "outputs": [
    {
     "data": {
      "text/plain": [
       "{'class:10C': ['x:428.5',\n",
       "  'y:939',\n",
       "  'width:61',\n",
       "  'height:132',\n",
       "  'class:10C',\n",
       "  'confidence:0.478']}"
      ]
     },
     "execution_count": 199,
     "metadata": {},
     "output_type": "execute_result"
    }
   ],
   "source": [
    "predictions = {}\n",
    "for i in range(len(l)//6):\n",
    "    pred = l[6*i:6*(i+1)]\n",
    "    card = pred[4]\n",
    "    if card not in predictions:\n",
    "        predictions[card] = pred\n",
    "predictions"
   ]
  },
  {
   "cell_type": "code",
   "execution_count": 118,
   "metadata": {},
   "outputs": [],
   "source": [
    "driver.close()"
   ]
  },
  {
   "cell_type": "markdown",
   "metadata": {},
   "source": [
    "### Automatic Testing"
   ]
  },
  {
   "cell_type": "code",
   "execution_count": 138,
   "metadata": {},
   "outputs": [],
   "source": [
    "def format_annotations(text):\n",
    "    s = text\n",
    "    s = s.replace(\"\\n\",\"\")\n",
    "    s = s.replace(\" \",\"\")\n",
    "    s = s.replace(\"\\\"\",\"\")\n",
    "    l = s.split(\",\")\n",
    "    l = list(map(lambda s: s.split(\"{\")[-1],l))\n",
    "    l = list(map(lambda s: s.split(\"}\")[0],l))\n",
    "    predictions = {}\n",
    "    for i in range(len(l)//6):\n",
    "        pred = l[6*i:6*(i+1)]\n",
    "        card = pred[4]\n",
    "        if card not in predictions:\n",
    "            predictions[card] = pred\n",
    "    return predictions\n",
    "\n",
    "def retrieve_annotation(image_path,hidden=True):\n",
    "    driver = setup_browser(hidden)\n",
    "    driver.delete_all_cookies()\n",
    "    time.sleep(1)\n",
    "    startup_page = \"https://universe.roboflow.com/augmented-startups/playing-cards-ow27d/1/try\"\n",
    "    driver.get(startup_page)\n",
    "    ### Interact with browser\n",
    "    sign_in  = driver.find_element(By.CSS_SELECTOR,\"#content > div.navbarContainer > nav > div:nth-child(5) > div > a.signIn.signInButton\")\n",
    "    sign_in.click()\n",
    "    time.sleep(0.2)\n",
    "    mail = driver.find_element(By.CSS_SELECTOR,\"#message > div > div.firebaseui-card-content > form > ul > li:nth-child(1) > button\")\n",
    "    mail.click()\n",
    "    time.sleep(0.4)\n",
    "    mail_enter = driver.find_element(By.CSS_SELECTOR,\"#message > div > form > div.firebaseui-card-content > div > div.firebaseui-textfield.mdl-textfield.mdl-js-textfield.mdl-textfield--floating-label.is-upgraded > input\")\n",
    "    mail_enter.send_keys(\"iapr2022project@gmail.com\")\n",
    "    time.sleep(0.3)\n",
    "    mail_validation = driver.find_element(By.CSS_SELECTOR,\"#message > div > form > div.firebaseui-card-actions > div > button.firebaseui-id-submit.firebaseui-button.mdl-button.mdl-js-button.mdl-button--raised.mdl-button--colored\")\n",
    "    mail_validation.click()\n",
    "    time.sleep(1.5)\n",
    "    password = driver.find_element(By.CSS_SELECTOR,\"#message > div > form > div.firebaseui-card-content > div:nth-child(3) > input\")\n",
    "    password.send_keys(\"ProjectAPI\")\n",
    "    time.sleep(0.5)\n",
    "    submit_sign_in = driver.find_element(By.CSS_SELECTOR,\"#message > div > form > div.firebaseui-card-actions > div.firebaseui-form-actions > button\")\n",
    "    submit_sign_in.click()\n",
    "    time.sleep(1)\n",
    "    ### Submit image\n",
    "    anot = driver.find_element(By.CSS_SELECTOR,\"#fileInput\")\n",
    "    anot.send_keys(image_path)\n",
    "    time.sleep(2)\n",
    "    waiting = True\n",
    "    while waiting:\n",
    "        try:\n",
    "            driver.delete_all_cookies()\n",
    "            time.sleep(1)\n",
    "            wrong = driver.find_element(By.CSS_SELECTOR,\"#swal2-title\")\n",
    "            wrong_button = driver.find_element(By.CSS_SELECTOR,\"body > div.swal2-container.swal2-center.createDatasetDialog.swal2-backdrop-show > div > div.swal2-actions.rightActions > button.swal2-confirm.actionButton.primary\")\n",
    "            wrong_button.click()\n",
    "            time.sleep(0.5)\n",
    "            driver.refresh()\n",
    "            time.sleep(4)\n",
    "            anot = driver.find_element(By.CSS_SELECTOR,\"#fileInput\")\n",
    "            anot.send_keys(image_path)\n",
    "            time.sleep(2)\n",
    "        except:\n",
    "            waiting = False\n",
    "    annotations =  driver.find_element(By.CSS_SELECTOR,\"#inferenceJson\")\n",
    "    ### Format Annotations\n",
    "    annotations_list = format_annotations(annotations.text)\n",
    "    driver.close()\n",
    "    return annotations_list"
   ]
  },
  {
   "cell_type": "code",
   "execution_count": 137,
   "metadata": {
    "collapsed": true,
    "jupyter": {
     "outputs_hidden": true
    }
   },
   "outputs": [
    {
     "name": "stderr",
     "output_type": "stream",
     "text": [
      "\n",
      "\n",
      "====== WebDriver manager ======\n",
      "Current google-chrome version is 101.0.4951\n",
      "Get LATEST driver version for 101.0.4951\n",
      "Driver [C:\\Users\\jerem\\.wdm\\drivers\\chromedriver\\win32\\101.0.4951.41\\chromedriver.exe] found in cache\n",
      "<ipython-input-107-2839086dfb5c>:13: DeprecationWarning: executable_path has been deprecated, please pass in a Service object\n",
      "  driver = webdriver.Chrome(\n"
     ]
    }
   ],
   "source": [
    "test_image = \"C:/EPFL/master/MA_2/ImageProcessing/EE-451-labs/final_project/data/symbols/test_image_3.jpg\"\n",
    "test_annotations = retrieve_annotation(test_image)"
   ]
  },
  {
   "cell_type": "code",
   "execution_count": 139,
   "metadata": {
    "collapsed": true,
    "jupyter": {
     "outputs_hidden": true
    }
   },
   "outputs": [
    {
     "name": "stderr",
     "output_type": "stream",
     "text": [
      "\n",
      "\n",
      "====== WebDriver manager ======\n",
      "Current google-chrome version is 101.0.4951\n",
      "Get LATEST driver version for 101.0.4951\n",
      "Driver [C:\\Users\\jerem\\.wdm\\drivers\\chromedriver\\win32\\101.0.4951.41\\chromedriver.exe] found in cache\n",
      "<ipython-input-107-2839086dfb5c>:13: DeprecationWarning: executable_path has been deprecated, please pass in a Service object\n",
      "  driver = webdriver.Chrome(\n",
      "\n",
      "\n",
      "====== WebDriver manager ======\n",
      "Current google-chrome version is 101.0.4951\n",
      "Get LATEST driver version for 101.0.4951\n",
      "Driver [C:\\Users\\jerem\\.wdm\\drivers\\chromedriver\\win32\\101.0.4951.41\\chromedriver.exe] found in cache\n",
      "\n",
      "\n",
      "====== WebDriver manager ======\n",
      "Current google-chrome version is 101.0.4951\n",
      "Get LATEST driver version for 101.0.4951\n",
      "Driver [C:\\Users\\jerem\\.wdm\\drivers\\chromedriver\\win32\\101.0.4951.41\\chromedriver.exe] found in cache\n",
      "\n",
      "\n",
      "====== WebDriver manager ======\n",
      "Current google-chrome version is 101.0.4951\n",
      "Get LATEST driver version for 101.0.4951\n",
      "Driver [C:\\Users\\jerem\\.wdm\\drivers\\chromedriver\\win32\\101.0.4951.41\\chromedriver.exe] found in cache\n"
     ]
    }
   ],
   "source": [
    "annotations_list = []\n",
    "base_path = \"C:/EPFL/master/MA_2/ImageProcessing/EE-451-labs/final_project/data/symbols/\"\n",
    "images = [base_path+\"test_image_2.jpg\",base_path+\"test_image_3.jpg\",base_path+\"test_image_4.jpg\",base_path+\"test_image_5.jpg\"]\n",
    "for im in images:\n",
    "    annotations_list.append(retrieve_annotation(im))"
   ]
  },
  {
   "cell_type": "markdown",
   "metadata": {},
   "source": [
    "### Parallel automatic testing"
   ]
  },
  {
   "cell_type": "code",
   "execution_count": 142,
   "metadata": {},
   "outputs": [],
   "source": [
    "test = Parallel(n_jobs=-1)(delayed(retrieve_annotation)(im) for im in images)"
   ]
  },
  {
   "cell_type": "markdown",
   "metadata": {},
   "source": [
    "# Test with direct API"
   ]
  },
  {
   "cell_type": "code",
   "execution_count": 4,
   "metadata": {},
   "outputs": [],
   "source": [
    "import io\n",
    "import cv2 \n",
    "import requests\n",
    "from PIL import Image\n",
    "from requests_toolbelt.multipart.encoder import MultipartEncoder"
   ]
  },
  {
   "cell_type": "code",
   "execution_count": 5,
   "metadata": {},
   "outputs": [],
   "source": [
    "img = cv2.imread(\"data/symbols/test_image.jpg\")\n",
    "image = cv2.cvtColor(img, cv2.COLOR_BGR2RGB)\n",
    "pilImage = Image.fromarray(image)\n",
    "\n",
    "buffered = io.BytesIO()\n",
    "pilImage.save(buffered, quality=100, format=\"JPEG\")\n",
    "\n",
    "m = MultipartEncoder(fields={'file': (\"imageToUpload\", buffered.getvalue(), \"image/jpeg\")})\n",
    "response = requests.post(\"https://detect.roboflow.com/your-model/your-model-version?api_key=qjCHEdJ6lphh5qmVKC6i\",\n",
    "                         data=m, headers={'Content-Type': m.content_type})"
   ]
  },
  {
   "cell_type": "code",
   "execution_count": 6,
   "metadata": {},
   "outputs": [
    {
     "name": "stdout",
     "output_type": "stream",
     "text": [
      "<Response [403]>\n"
     ]
    }
   ],
   "source": [
    "print(response)"
   ]
  },
  {
   "cell_type": "code",
   "execution_count": 7,
   "metadata": {},
   "outputs": [
    {
     "name": "stdout",
     "output_type": "stream",
     "text": [
      "{'message': 'Forbidden'}\n"
     ]
    }
   ],
   "source": [
    "print(response.json())"
   ]
  }
 ],
 "metadata": {
  "kernelspec": {
   "display_name": "Python 3 (ipykernel)",
   "language": "python",
   "name": "python3"
  },
  "language_info": {
   "codemirror_mode": {
    "name": "ipython",
    "version": 3
   },
   "file_extension": ".py",
   "mimetype": "text/x-python",
   "name": "python",
   "nbconvert_exporter": "python",
   "pygments_lexer": "ipython3",
   "version": "3.9.7"
  }
 },
 "nbformat": 4,
 "nbformat_minor": 4
}
