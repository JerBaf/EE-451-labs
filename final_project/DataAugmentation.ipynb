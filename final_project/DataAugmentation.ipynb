{
 "cells": [
  {
   "cell_type": "markdown",
   "metadata": {},
   "source": [
    "# Data Augmentation "
   ]
  },
  {
   "cell_type": "code",
   "execution_count": 101,
   "metadata": {},
   "outputs": [],
   "source": [
    "import cv2\n",
    "import os \n",
    "import numpy as np\n",
    "import glob\n",
    "import matplotlib.pyplot as plt\n",
    "from helpers import *"
   ]
  },
  {
   "cell_type": "code",
   "execution_count": 2,
   "metadata": {},
   "outputs": [],
   "source": [
    "input_folder = \"data/reference_images/originals/\""
   ]
  },
  {
   "cell_type": "code",
   "execution_count": 3,
   "metadata": {},
   "outputs": [],
   "source": [
    "def plot_augmented(original,new):\n",
    "    fig,ax = plt.subplots(1,2,figsize=(10,6))\n",
    "    ax[0].imshow(original,cmap=\"gray\")\n",
    "    ax[1].imshow(new,cmap=\"gray\")"
   ]
  },
  {
   "cell_type": "markdown",
   "metadata": {},
   "source": [
    "### Rotations"
   ]
  },
  {
   "cell_type": "code",
   "execution_count": 4,
   "metadata": {},
   "outputs": [],
   "source": [
    "rot_path = \"data/reference_images/rotated/\"\n",
    "angles = [15,45,75,90,105,135,155,180]"
   ]
  },
  {
   "cell_type": "code",
   "execution_count": 9,
   "metadata": {},
   "outputs": [],
   "source": [
    "for img in glob.glob(input_folder+\"/*.png\"):\n",
    "    image = cv2.imread(img,cv2.IMREAD_GRAYSCALE)\n",
    "    h,w = image.shape\n",
    "    for alpha in angles:\n",
    "        rotation_matrix = cv2.getRotationMatrix2D((w/2,h/2),alpha,0.9)\n",
    "        rotated_image = cv2.warpAffine(image,rotation_matrix,(w,h),borderValue=(230))\n",
    "        new_name = img.split(\"\\\\\")[1]\n",
    "        new_name = new_name.split(\".\")[0]+\"_rot_\"+str(alpha)+\".\"+new_name.split(\".\")[1]\n",
    "        cv2.imwrite(rot_path+new_name,rotated_image)"
   ]
  },
  {
   "cell_type": "markdown",
   "metadata": {},
   "source": [
    "### Bright"
   ]
  },
  {
   "cell_type": "code",
   "execution_count": 27,
   "metadata": {},
   "outputs": [],
   "source": [
    "bright_path = \"data/reference_images/bright/\"\n",
    "for img in glob.glob(input_folder+\"/*.png\"):\n",
    "    image = cv2.imread(img,cv2.IMREAD_GRAYSCALE)\n",
    "    bright = np.ones(image.shape,dtype=np.uint8)*120\n",
    "    image_bright = cv2.add(image,bright)\n",
    "    new_name = img.split(\"\\\\\")[1]\n",
    "    new_name = new_name.split(\".\")[0]+\"_bright.\"+new_name.split(\".\")[1]\n",
    "    cv2.imwrite(bright_path+new_name,image_bright)"
   ]
  },
  {
   "cell_type": "markdown",
   "metadata": {},
   "source": [
    "### Dark"
   ]
  },
  {
   "cell_type": "code",
   "execution_count": 51,
   "metadata": {},
   "outputs": [],
   "source": [
    "dark_path = \"data/reference_images/dark/\"\n",
    "for img in glob.glob(input_folder+\"/*.png\"):\n",
    "    image = cv2.imread(img,cv2.IMREAD_GRAYSCALE)\n",
    "    dark = np.ones(image.shape,dtype=np.uint8)*200\n",
    "    image_dark = cv2.subtract(image,dark)\n",
    "    new_name = img.split(\"\\\\\")[1]\n",
    "    new_name = new_name.split(\".\")[0]+\"_dark.\"+new_name.split(\".\")[1]\n",
    "    cv2.imwrite(dark_path+new_name,image_dark)"
   ]
  },
  {
   "cell_type": "markdown",
   "metadata": {},
   "source": [
    "### Flipped"
   ]
  },
  {
   "cell_type": "code",
   "execution_count": 61,
   "metadata": {},
   "outputs": [],
   "source": [
    "flip_path = \"data/reference_images/flip/\"\n",
    "for img in glob.glob(input_folder+\"/*.png\"):\n",
    "    image = cv2.imread(img,cv2.IMREAD_GRAYSCALE)\n",
    "    image_flip = cv2.flip(image,3)\n",
    "    new_name = img.split(\"\\\\\")[1]\n",
    "    new_name = new_name.split(\".\")[0]+\"_flip.\"+new_name.split(\".\")[1]\n",
    "    cv2.imwrite(flip_path+new_name,image_flip)"
   ]
  },
  {
   "cell_type": "markdown",
   "metadata": {},
   "source": [
    "### Noise"
   ]
  },
  {
   "cell_type": "code",
   "execution_count": 159,
   "metadata": {},
   "outputs": [],
   "source": [
    "noise_path = \"data/reference_images/noise/\"\n",
    "for img in glob.glob(input_folder+\"/*.png\"):\n",
    "    image = cv2.imread(img,cv2.IMREAD_GRAYSCALE)\n",
    "    gaussian_img = random_noise(image, mode='gaussian', var=0.3**2)\n",
    "    gaussian_img = (255*gaussian_img).astype(np.uint8)\n",
    "    snp_img = random_noise(image, mode='s&p',amount=0.3) \n",
    "    snp_img = (255*snp_img).astype(np.uint8)\n",
    "    new_name = img.split(\"\\\\\")[1]\n",
    "    new_name_gaussian = new_name.split(\".\")[0]+\"_gaussian.\"+new_name.split(\".\")[1]\n",
    "    new_name_snp = new_name.split(\".\")[0]+\"_snp.\"+new_name.split(\".\")[1]\n",
    "    cv2.imwrite(noise_path+new_name_gaussian,gaussian_img)\n",
    "    cv2.imwrite(noise_path+new_name_snp,snp_img)"
   ]
  }
 ],
 "metadata": {
  "kernelspec": {
   "display_name": "Python 3",
   "language": "python",
   "name": "python3"
  },
  "language_info": {
   "codemirror_mode": {
    "name": "ipython",
    "version": 3
   },
   "file_extension": ".py",
   "mimetype": "text/x-python",
   "name": "python",
   "nbconvert_exporter": "python",
   "pygments_lexer": "ipython3",
   "version": "3.8.5"
  }
 },
 "nbformat": 4,
 "nbformat_minor": 4
}
