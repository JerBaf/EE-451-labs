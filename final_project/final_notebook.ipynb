{
 "cells": [
  {
   "cell_type": "markdown",
   "metadata": {},
   "source": [
    "# Jeremy notebook for final project"
   ]
  },
  {
   "cell_type": "code",
   "execution_count": 4,
   "metadata": {},
   "outputs": [],
   "source": [
    "import cv2\n",
    "import numpy as np\n",
    "import matplotlib.pyplot as plt\n",
    "import scipy.signal\n",
    "import k_means\n",
    "from helpers import *\n",
    "from sklearn import cluster\n",
    "%load_ext autoreload\n",
    "%autoreload 2"
   ]
  },
  {
   "cell_type": "markdown",
   "metadata": {},
   "source": [
    "## Table segmentation"
   ]
  },
  {
   "cell_type": "code",
   "execution_count": 7,
   "metadata": {},
   "outputs": [],
   "source": [
    "def process_image(image) -> dict:\n",
    "    \"\"\"\n",
    "    Process image and return information. To return the value of the cards we use \n",
    "    the following format: {number}{color}. Where \n",
    "        - color is either (D)imanond, (H)eart, (S)pade, (C)lub\n",
    "        - number is either 2-10, (J)ack, (Q)ueen, (K)ing. A(ce).\n",
    "            \n",
    "    Parameters\n",
    "    ----------\n",
    "    image:\n",
    "        Input image to process\n",
    "\n",
    "    Returns\n",
    "    -------\n",
    "    results:\n",
    "        - T1 (str): String code of the first card of the flop (far left) \n",
    "        - T2 (str): String code of the second card of the flop\n",
    "        - T3 (str): String code of the third card of the flop\n",
    "        - T4 (str): String code of the turn\n",
    "        - T5 (str): String code of the river\n",
    "        - P11 (str or int): String code of player 1 card 1. Should be 0 if player 1 is not Playing.\n",
    "        - P12 (str or int): String code of player 1 card 2. Should be 0 if player 1 is not Playing.\n",
    "        - P21 (str or int): String code of player 2 card 1. Should be 0 if player 2 is not Playing.\n",
    "        - P22 (str or int): String code of player 2 card 2. Should be 0 if player 2 is not Playing.\n",
    "        - P31 (str or int): String code of player 3 card 1. Should be 0 if player 3 is not Playing.\n",
    "        - P32 (str or int): String code of player 3 card 2. Should be 0 if player 3 is not Playing.\n",
    "        - P41 (str or int): String code of player 4 card 1. Should be 0 if player 4 is not Playing.\n",
    "        - P42 (str or int): String code of player 4 card 2. Should be 0 if player 4 is not Playing.\n",
    "        - CR (int): Number of (r)ed chips in the pot\n",
    "        - CG (int): Number of (g)reen chips in the pot\n",
    "        - CB (int): Number of (b)lue chips in the pot\n",
    "        - CK (int): Number of blac(k) chips in the pot\n",
    "        - CW (int): Number of (w)hite chips in the pot\n",
    "        \n",
    "    Examples\n",
    "    --------\n",
    "    - QH: Queen of hearths\n",
    "    - 10S: 10 of spades\n",
    "    - AC: Ace f clubs\n",
    "\n",
    "    \"\"\"\n",
    "    \n",
    "    table_segmentation = segment_table(image)\n",
    "\n",
    "    # Pre process\n",
    "    kernel = np.ones((5,5),np.float32)/25\n",
    "    table_filtered = cv2.filter2D(table_segmentation,-1,kernel)\n",
    "    table_canny = cv2.Canny(table_filtered, 10, 200)\n",
    "\n",
    "    # Extract cards\n",
    "    T_cards = extract_T_cards(table_segmentation, table_canny)\n",
    "    right_cards = extract_right_cards(table_segmentation, table_canny)\n",
    "    left_cards = extract_left_cards(table_segmentation, table_canny)\n",
    "    top_cards = extract_top_cards(table_segmentation, table_canny)\n",
    "\n",
    "    # Split up into explicit parts\n",
    "    T1, T2, T3, T4, T5 = T_cards[0], T_cards[1], T_cards[2], T_cards[3], T_cards[4]\n",
    "    P1 = right_cards[0]\n",
    "    P2 = top_cards[0]\n",
    "    P3 = top_cards[1]\n",
    "    P4 = left_cards[0]\n",
    "    \n",
    "    # Classify cards here\n",
    "    #classification = classify([T1, T2, T3, T4, T5, P1, P2, P3, P4])\n",
    "\n",
    "    #T1, T2, T3, T4, T5 = classification[0], classification[1], classification[2], classification[3], classification[4]\n",
    "    #P1 = classification[5]\n",
    "    #P2 = classification[6]\n",
    "    #P3 = classification[7]\n",
    "    #P4 = classification[8]\n",
    "    #P11 = P1[0]\n",
    "    #P12 = P1[1]\n",
    "    #P21 = P2[0]\n",
    "    #P22 = P2[1]\n",
    "    #P31 = P3[0]\n",
    "    #P32 = P3[1]\n",
    "    #P41 = P4[0]\n",
    "    #P42 = P4[1]\n",
    "    \n",
    "    # Count chips\n",
    "    labels = get_chips_labels(table_segmentation, plot=False)\n",
    "    num_white_chips = (labels==0).sum()\n",
    "    num_black_chips = (labels==1).sum()\n",
    "    num_red_chips = (labels==2).sum()\n",
    "    num_green_chips = (labels==3).sum()\n",
    "    num_blue_chips = (labels==4).sum()\n",
    "    \n",
    "    results = {\n",
    "        # Flop, river and turn\n",
    "        \"T1\": \"T1\", \"T2\": \"T2\", \"T3\": \"T3\", \"T4\": \"T4\", \"T5\": \"T5\",\n",
    "        # Player cards\n",
    "        \"P11\": 'P11' , \"P12\": 'P12', \"P21\": 'P21', \"P22\": \"P22\", \"P31\": \"P31\", \"P32\":\"P32\" , \"P41\": \"P41\", \"P42\": \"P42\",\n",
    "        # Chips\n",
    "         \"CR\": num_red_chips, \"CG\": num_green_chips, \"CB\": num_blue_chips,\"CK\": num_black_chips, \"CW\": num_white_chips\n",
    "    }\n",
    "    return results\n",
    "\n"
   ]
  },
  {
   "cell_type": "code",
   "execution_count": 8,
   "metadata": {},
   "outputs": [
    {
     "data": {
      "text/plain": [
       "{'T1': '2C',\n",
       " 'T2': 'AH',\n",
       " 'T3': '8D',\n",
       " 'T4': 'JC',\n",
       " 'T5': 'JS',\n",
       " 'P11': '2H',\n",
       " 'P12': '3C',\n",
       " 'P21': 'KS',\n",
       " 'P22': 'QS',\n",
       " 'P31': 'KD',\n",
       " 'P32': '5S',\n",
       " 'P41': '7H',\n",
       " 'P42': '8H',\n",
       " 'CR': 0,\n",
       " 'CG': 0,\n",
       " 'CB': 1,\n",
       " 'CK': 0,\n",
       " 'CW': 0}"
      ]
     },
     "execution_count": 8,
     "metadata": {},
     "output_type": "execute_result"
    }
   ],
   "source": [
    "image = cv2.imread(\"data/train/train_06.jpg\")\n",
    "table_result = process_image(image)\n",
    "table_result"
   ]
  },
  {
   "cell_type": "code",
   "execution_count": 3,
   "metadata": {},
   "outputs": [
    {
     "ename": "NameError",
     "evalue": "name 'plt' is not defined",
     "output_type": "error",
     "traceback": [
      "\u001b[0;31m---------------------------------------------------------------------------\u001b[0m",
      "\u001b[0;31mNameError\u001b[0m                                 Traceback (most recent call last)",
      "\u001b[0;32m/tmp/ipykernel_5030/255836190.py\u001b[0m in \u001b[0;36m<module>\u001b[0;34m\u001b[0m\n\u001b[0;32m----> 1\u001b[0;31m \u001b[0mplt\u001b[0m\u001b[0;34m.\u001b[0m\u001b[0mimshow\u001b[0m\u001b[0;34m(\u001b[0m\u001b[0mimage\u001b[0m\u001b[0;34m)\u001b[0m\u001b[0;34m\u001b[0m\u001b[0;34m\u001b[0m\u001b[0m\n\u001b[0m",
      "\u001b[0;31mNameError\u001b[0m: name 'plt' is not defined"
     ]
    }
   ],
   "source": [
    "plt.imshow(image)"
   ]
  },
  {
   "cell_type": "code",
   "execution_count": null,
   "metadata": {},
   "outputs": [],
   "source": []
  }
 ],
 "metadata": {
  "kernelspec": {
   "display_name": "Python 3 (ipykernel)",
   "language": "python",
   "name": "python3"
  },
  "language_info": {
   "codemirror_mode": {
    "name": "ipython",
    "version": 3
   },
   "file_extension": ".py",
   "mimetype": "text/x-python",
   "name": "python",
   "nbconvert_exporter": "python",
   "pygments_lexer": "ipython3",
   "version": "3.9.7"
  }
 },
 "nbformat": 4,
 "nbformat_minor": 4
}
