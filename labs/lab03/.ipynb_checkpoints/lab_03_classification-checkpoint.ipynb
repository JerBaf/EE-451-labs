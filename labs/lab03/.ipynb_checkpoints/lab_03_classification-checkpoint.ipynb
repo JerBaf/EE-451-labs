{
 "cells": [
  {
   "cell_type": "markdown",
   "metadata": {},
   "source": [
    "# [IAPR][iapr]: Lab 3 ‒  Classification (old)\n",
    "\n",
    "\n",
    "**Group ID:** 23\n",
    "\n",
    "**Author 1 (sciper):** Jérémy Baffou (301972)  \n",
    "**Author 2 (sciper):** Léon Delachaux (296093)   \n",
    "**Author 3 (sciper):** Martin Dahl (344218)    \n",
    "\n",
    "**Release date:** 23.04.2021  \n",
    "**Due date:** 07.05.2021 \n",
    "\n",
    "\n",
    "## Important notes\n",
    "\n",
    "The lab assignments are designed to teach practical implementation of the topics presented during class well as\n",
    "preparation for the final project, which is a practical project which ties together the topics of the course.\n",
    "\n",
    "As such, in the lab assignments/final project, unless otherwise specified, you may, if you choose, use external\n",
    "functions from image processing/ML libraries like opencv and sklearn as long as there is sufficient explanation\n",
    "in the lab report. For example, you do not need to implement your own edge detector, etc.\n",
    "\n",
    "**! Before handling back the notebook <font color='red'> rerun </font>the notebook from scratch !**\n",
    "`Kernel` > `Restart & Run All`\n",
    "\n",
    "We will not rerun the notebook for you.\n",
    "\n",
    "\n",
    "[iapr]: https://github.com/LTS5/iapr"
   ]
  },
  {
   "cell_type": "markdown",
   "metadata": {},
   "source": [
    "## Extract relevant data\n",
    "We first need to extract the `lab-03-data.tar.gz` archive.\n",
    "To this end, we use the [tarfile] module from the Python standard library.\n",
    "\n",
    "[tarfile]: https://docs.python.org/3.6/library/tarfile.html"
   ]
  },
  {
   "cell_type": "code",
   "execution_count": 1,
   "metadata": {},
   "outputs": [],
   "source": [
    "import tarfile\n",
    "import os\n",
    "\n",
    "data_base_path = os.path.join(\"../..\", 'data')\n",
    "data_folder = 'lab-03-data'\n",
    "tar_path = os.path.join(data_base_path, data_folder + '.tar.gz')\n",
    "with tarfile.open(tar_path, mode='r:gz') as tar:\n",
    "    tar.extractall(path=data_base_path)"
   ]
  },
  {
   "cell_type": "markdown",
   "metadata": {},
   "source": [
    "---\n",
    "## Part 1\n",
    "In this part, we will study classification based on the data available in the Matlab file `classification.mat` that you will under `lab-03-data/part1`.\n",
    "There are 3 data sets in this file, each one being a training set for a given class.\n",
    "They are contained in variables `a`, `b` and `c`.\n",
    "\n",
    "**Note**: we can load Matlab files using the [scipy.io] module.\n",
    "\n",
    "[scipy.io]: https://docs.scipy.org/doc/scipy/reference/io.html"
   ]
  },
  {
   "cell_type": "code",
   "execution_count": 2,
   "metadata": {},
   "outputs": [
    {
     "name": "stdout",
     "output_type": "stream",
     "text": [
      "(200, 2) (200, 2) (200, 2)\n"
     ]
    }
   ],
   "source": [
    "import scipy.io\n",
    "import matplotlib.pyplot as plt\n",
    "import numpy as np\n",
    "\n",
    "data_part1_path = os.path.join(data_base_path, data_folder, 'part1', 'classification.mat')\n",
    "matfile = scipy.io.loadmat(data_part1_path)\n",
    "a = matfile['a']\n",
    "b = matfile['b']\n",
    "c = matfile['c']\n",
    "\n",
    "print(a.shape, b.shape, c.shape)"
   ]
  },
  {
   "cell_type": "markdown",
   "metadata": {},
   "source": [
    "### 1.1 Bayes method (5 pts)\n",
    "Using the Bayes method, give the expression of the separation curves between those three classes.\n",
    "Do reasonable hypotheses about the distributions of those classes and estimate the corresponding parameters based on the given training sets.\n",
    "Draw those curves on a plot, together with the training data. Note that you do not need to solve the analytical expression. You can simply evaluate the function for each point on the plane to end up with a segmentation map.\n",
    "For simplicity reasons, round the estimated parameters to the closest integer value."
   ]
  },
  {
   "cell_type": "markdown",
   "metadata": {},
   "source": [
    "We plot the three classes on 2d plane to have an insight of their distribution:"
   ]
  },
  {
   "cell_type": "code",
   "execution_count": 3,
   "metadata": {},
   "outputs": [
    {
     "data": {
      "image/png": "[encoded data removed]",
      "text/plain": [
       "<Figure size 432x288 with 1 Axes>"
      ]
     },
     "metadata": {
      "needs_background": "light"
     },
     "output_type": "display_data"
    }
   ],
   "source": [
    "fig, ax = plt.subplots()\n",
    "ax.set_title(\"Class spatial distribution\")\n",
    "ax.scatter(a[:,0],a[:,1],label=\"a\")\n",
    "ax.scatter(b[:,0],b[:,1],label=\"b\")\n",
    "ax.scatter(c[:,0],c[:,1],label=\"c\")\n",
    "ax.legend();"
   ]
  },
  {
   "cell_type": "markdown",
   "metadata": {},
   "source": [
    "We can maybe assume the distributions to be gaussian, but their variance won't be isotropic and not the same for all classes .Indeed, eventhough the spreads of class $a$ and $b$ seem similar, the spread for class $c$ looks like a rotation by $\\frac{\\pi}{2}$ of the distribution of other classes. This implies that the decision boundaries will be a bit more complicated than just a perpendicular line at equidistance of means.\n",
    "\n",
    "We now compute the rounded estimators for the mean and variance of each class:"
   ]
  },
  {
   "cell_type": "code",
   "execution_count": 4,
   "metadata": {},
   "outputs": [
    {
     "name": "stdout",
     "output_type": "stream",
     "text": [
      "Rounded mean vector for class a = [-0.  0.], b = [3. 3.], c = [-10.   0.]\n",
      "Rounded covariance matrix for class \n",
      "a = [[10.  0.]\n",
      " [ 0.  1.]] \n",
      "b = [[10.  0.]\n",
      " [ 0.  1.]] \n",
      "c = [[1. 0.]\n",
      " [0. 5.]] \n",
      "\n"
     ]
    }
   ],
   "source": [
    "u_a, u_b, u_c = np.concatenate([a[np.newaxis,:,:],b[np.newaxis,:,:],c[np.newaxis,:,:]],axis=0).mean(axis=1).round()\n",
    "sigma_a, sigma_b, sigma_c = np.cov(a.T).round(), np.cov(b.T).round(), np.cov(c.T).round()\n",
    "print(f\"Rounded mean vector for class a = {u_a}, b = {u_b}, c = {u_c}\")\n",
    "print(\"Rounded covariance matrix for class \\n\" +f\"a = {sigma_a} \\n\" +f\"b = {sigma_b} \\n\" +f\"c = {sigma_c} \\n\")"
   ]
  },
  {
   "cell_type": "markdown",
   "metadata": {},
   "source": [
    "By looking at the different covariance, it seems to validate the hypothesis that class a and b follows the same (but shifted) distributions. Thus we expect the separation curve to be a straight line. Where as the other curves should be quadrics.\n",
    "\n",
    "We have the same number of points for each class, thus we assume that we have a uniform prior distributions for the class choice: $P(a)=P(b)=P(c)=\\frac{1}{3}$. As the prior are uniform they are simply constant in our decision rule that we can neglect. We define now for class $i$, the discriminant function $g_i(x)$ to be: $g_i(x) = -\\frac{1}{2}(x-\\mu_i)^T\\Sigma_i^{-1}(x-\\mu_i)$"
   ]
  },
  {
   "cell_type": "code",
   "execution_count": 5,
   "metadata": {},
   "outputs": [],
   "source": [
    "def g_i(x,mean_i,sigma_i):\n",
    "    \"\"\" Discriminant function for class i. \"\"\"\n",
    "    return (-1/2)*(x-mean_i).T@np.linalg.inv(sigma_i)@(x-mean_i)"
   ]
  },
  {
   "cell_type": "markdown",
   "metadata": {},
   "source": [
    "We will now retrieve the separating curves. They are composed by all points with equal values of $g_i(x)$ and $g_j(x)$, where $i,j$ are classes. These are the boundaries where the model cannot make a decision as the given point $x$ is as likely to be part from class $i$ or class $j$. Thus we define a separating curve as : $g_{ij}(x): g_i(x) - g_j(x) = 0$"
   ]
  },
  {
   "cell_type": "code",
   "execution_count": 10,
   "metadata": {},
   "outputs": [],
   "source": [
    "def g_ij():\n",
    "    \"\"\" Retrieve all the separating curves points in the local subspace of the data. \"\"\"\n",
    "    zeros = []\n",
    "    for x in np.linspace(-12,15,num=300):\n",
    "        for y in np.linspace(-6,6,num=120):\n",
    "            point = np.asarray([x,y])\n",
    "            g_a = g_i(point,u_a,sigma_a)\n",
    "            g_b = g_i(point,u_b,sigma_b)\n",
    "            g_c = g_i(point,u_c,sigma_c)\n",
    "            if np.round(g_a - g_b) == 0:\n",
    "                zeros.append((point,\"a_b\"))\n",
    "            if np.round(g_a - g_c) == 0:\n",
    "                zeros.append((point,\"a_c\"))\n",
    "            if np.round(g_b - g_c) == 0:\n",
    "                zeros.append((point,\"b_c\"))\n",
    "    return zeros\n",
    "\n",
    "def plot_separating_curves(zeros):\n",
    "    \"\"\" Plot the data with the separating curves. \"\"\"\n",
    "    a_b_curve = np.asarray([t[0] for t in zeros if t[1] == \"a_b\"])\n",
    "    a_c_curve = np.asarray([t[0] for t in zeros if t[1] == \"a_c\"])\n",
    "    b_c_curve = np.asarray([t[0] for t in zeros if t[1] == \"b_c\"])\n",
    "    fig, ax = plt.subplots()\n",
    "    ax.set_title(\"Separating curves\")\n",
    "    ax.scatter(a[:,0],a[:,1],label=\"a\")\n",
    "    ax.scatter(b[:,0],b[:,1],label=\"b\")\n",
    "    ax.scatter(c[:,0],c[:,1],label=\"c\")\n",
    "    ax.scatter(a_b_curve[:,0],a_b_curve[:,1],label=\"a_b_curve\")\n",
    "    ax.scatter(a_c_curve[:,0],a_c_curve[:,1],label=\"a_c_curve\")\n",
    "    ax.scatter(b_c_curve[:,0],b_c_curve[:,1],label=\"b_c_curve\")\n",
    "    ax.legend();"
   ]
  },
  {
   "cell_type": "code",
   "execution_count": 11,
   "metadata": {},
   "outputs": [
    {
     "data": {
      "image/png": "[encoded data removed]",
      "text/plain": [
       "<Figure size 432x288 with 1 Axes>"
      ]
     },
     "metadata": {
      "needs_background": "light"
     },
     "output_type": "display_data"
    }
   ],
   "source": [
    "zeros = g_ij()\n",
    "plot_separating_curves(zeros)"
   ]
  },
  {
   "cell_type": "markdown",
   "metadata": {},
   "source": [
    "We indeed see a straigth line separating class $a$ and $b$, and quadrics separating $a$ from $c$ and $b$ from $c$. The line are pretty thick due to the fact that we are using scatter plots and that we are taking too much points to interpolate. But it is not a problem for us as the goal is to have an idea of the boundaries rather than to have a precise delimitation. Indeed in practice we would use for example the Mahalanobis distance to classify rather than looking directly at the curve."
   ]
  },
  {
   "cell_type": "markdown",
   "metadata": {},
   "source": [
    "### 1.2 Mahalanobis distance (5 pts)\n",
    "For classes `a` and `b`, give the expression of the Mahalanobis distance used to classify a point in class `a` or `b`, and verify the obtained classification, in comparison with the \"complete\" Bayes classification, for a few points of the plane."
   ]
  },
  {
   "cell_type": "markdown",
   "metadata": {},
   "source": [
    "The Mahalanobis distance of point $x$ to class $i$ is given by: $d_m = \\sqrt{(x-\\mu_i)^T\\Sigma_i^{-1}(x-\\mu_i)}$"
   ]
  },
  {
   "cell_type": "code",
   "execution_count": 12,
   "metadata": {},
   "outputs": [],
   "source": [
    "def mahalanobis_dist(x,u,sigma):\n",
    "    return np.sqrt((x-u).T@np.linalg.inv(sigma)@(x-u))"
   ]
  },
  {
   "cell_type": "markdown",
   "metadata": {},
   "source": [
    "We will now draw a random sample of class $a$ and $b$ of size 10 and compare the decision comming from minimum Mahalanobis distance and from the separating curve."
   ]
  },
  {
   "cell_type": "code",
   "execution_count": 13,
   "metadata": {},
   "outputs": [],
   "source": [
    "np.random.seed(100)\n",
    "random_sample_a = a[np.random.choice(np.arange(a.shape[0]),replace=False,size=10)]\n",
    "random_sample_b = b[np.random.choice(np.arange(b.shape[0]),replace=False,size=10)]"
   ]
  },
  {
   "cell_type": "code",
   "execution_count": 14,
   "metadata": {},
   "outputs": [],
   "source": [
    "def plot_random_sample():\n",
    "    zeros = g_ij()\n",
    "    a_b_curve = np.asarray([t[0] for t in zeros if t[1] == \"a_b\"])\n",
    "    fig, ax = plt.subplots()\n",
    "    ax.set_title(\"Random Samples Distribution\")\n",
    "    ax.scatter(random_sample_a[:,0],random_sample_a[:,1],label=\"a\")\n",
    "    ax.scatter(random_sample_b[:,0],random_sample_b[:,1],label=\"b\")\n",
    "    ax.plot(a_b_curve[:,0],a_b_curve[:,1],label=\"a_b_curve\")\n",
    "    ax.legend();"
   ]
  },
  {
   "cell_type": "code",
   "execution_count": 15,
   "metadata": {},
   "outputs": [
    {
     "data": {
      "image/png": "[encoded data removed]",
      "text/plain": [
       "<Figure size 432x288 with 1 Axes>"
      ]
     },
     "metadata": {
      "needs_background": "light"
     },
     "output_type": "display_data"
    }
   ],
   "source": [
    "plot_random_sample()"
   ]
  },
  {
   "cell_type": "code",
   "execution_count": 16,
   "metadata": {},
   "outputs": [],
   "source": [
    "def min_mahanalobis_distance():\n",
    "    distances_a_to_a = [mahalanobis_dist(x,u_a,sigma_a) for x in list(random_sample_a)]\n",
    "    distances_a_to_b = [mahalanobis_dist(x,u_b,sigma_b) for x in list(random_sample_a)]\n",
    "    distances_b_to_a = [mahalanobis_dist(x,u_a,sigma_a) for x in list(random_sample_b)]\n",
    "    distances_b_to_b = [mahalanobis_dist(x,u_b,sigma_b) for x in list(random_sample_b)]\n",
    "    distances_a = zip(distances_a_to_a,distances_a_to_b)\n",
    "    distances_b = zip(distances_b_to_a,distances_b_to_b)\n",
    "    class_attribution_a = [\"a\" if t[0] < t[1] else \"b\" for t in distances_a]\n",
    "    class_attribution_b = [\"a\" if t[0] < t[1] else \"b\" for t in distances_b]\n",
    "    return class_attribution_a, class_attribution_b"
   ]
  },
  {
   "cell_type": "code",
   "execution_count": 17,
   "metadata": {},
   "outputs": [
    {
     "data": {
      "text/plain": [
       "(['a', 'a', 'a', 'a', 'a', 'a', 'a', 'a', 'a', 'a'],\n",
       " ['b', 'b', 'b', 'a', 'b', 'b', 'b', 'b', 'b', 'b'])"
      ]
     },
     "execution_count": 17,
     "metadata": {},
     "output_type": "execute_result"
    }
   ],
   "source": [
    "min_mahanalobis_distance()"
   ]
  },
  {
   "cell_type": "code",
   "execution_count": 18,
   "metadata": {},
   "outputs": [
    {
     "name": "stdout",
     "output_type": "stream",
     "text": [
      "Missclassified point : [4.73178817 0.50046656]\n"
     ]
    }
   ],
   "source": [
    "missclassified_idx = min_mahanalobis_distance()[1].index(\"a\")\n",
    "print(f\"Missclassified point : {random_sample_b[missclassified_idx]}\")"
   ]
  },
  {
   "cell_type": "markdown",
   "metadata": {},
   "source": [
    "We see that using the minimum Mahanalobis rule we also missclassify the same point. Here the Mahalanobis distance is equivalent to the \"complete\" Bayes classification as we have uniform priors."
   ]
  },
  {
   "cell_type": "markdown",
   "metadata": {},
   "source": [
    "---\n",
    "\n",
    "## Part 2\n",
    "In this part, we aim to classify digits using the complete version of MNIST digits dataset.\n",
    "The dataset consists of 60'000 training images and 10'000 test images of handwritten digits.\n",
    "Each image has size 28x28, and has assigned a label from zero to nine, denoting the digits value.\n",
    "Given this data, your task is to construct a Multilayer Perceptron (MLP) for supervised training and classification and evaluate it on the test images.\n",
    "\n",
    "Download the MNIST dataset (all 4 files) from http://yann.lecun.com/exdb/mnist/ under `lab-03-data/part2`.\n",
    "You can then use the script provided below to extract and load training and testing images in Python. \n",
    "\n",
    "**! Warning**: When the lab was created the official MNIST repo was down, if it is still the case please use https://github.com/mkolod/MNIST."
   ]
  },
  {
   "cell_type": "markdown",
   "metadata": {},
   "source": [
    "### 2.1 Dataset loading\n",
    "Here we first declare the methods `extract_data` and `extract_labels` so that we can reuse them later in the code.\n",
    "Then we extract both the data and corresponding labels, and plot randomly some images and corresponding labels of the training set."
   ]
  },
  {
   "cell_type": "code",
   "execution_count": 19,
   "metadata": {},
   "outputs": [],
   "source": [
    "import gzip\n",
    "import numpy as np\n",
    "import matplotlib.pyplot as plt\n",
    "\n",
    "def extract_data(filename, image_shape, image_number):\n",
    "    with gzip.open(filename) as bytestream:\n",
    "        bytestream.read(16)\n",
    "        buf = bytestream.read(np.prod(image_shape) * image_number)\n",
    "        data = np.frombuffer(buf, dtype=np.uint8).astype(np.float32)\n",
    "        data = data.reshape(image_number, image_shape[0], image_shape[1])\n",
    "    return data\n",
    "\n",
    "\n",
    "def extract_labels(filename, image_number):\n",
    "    with gzip.open(filename) as bytestream:\n",
    "        bytestream.read(8)\n",
    "        buf = bytestream.read(1 * image_number)\n",
    "        labels = np.frombuffer(buf, dtype=np.uint8).astype(np.int64)\n",
    "    return labels"
   ]
  },
  {
   "cell_type": "code",
   "execution_count": 20,
   "metadata": {},
   "outputs": [],
   "source": [
    "image_shape = (28, 28)\n",
    "train_set_size = 60000\n",
    "test_set_size = 10000\n",
    "\n",
    "data_part2_folder = os.path.join(data_base_path, data_folder, 'part2')\n",
    "\n",
    "train_images_path = os.path.join(data_part2_folder, 'train-images-idx3-ubyte.gz')\n",
    "train_labels_path = os.path.join(data_part2_folder, 'train-labels-idx1-ubyte.gz')\n",
    "test_images_path = os.path.join(data_part2_folder, 't10k-images-idx3-ubyte.gz')\n",
    "test_labels_path = os.path.join(data_part2_folder, 't10k-labels-idx1-ubyte.gz')\n",
    "\n",
    "train_images = extract_data(train_images_path, image_shape, train_set_size)\n",
    "test_images = extract_data(test_images_path, image_shape, test_set_size)\n",
    "train_labels = extract_labels(train_labels_path, train_set_size)\n",
    "test_labels = extract_labels(test_labels_path, test_set_size)"
   ]
  },
  {
   "cell_type": "code",
   "execution_count": 21,
   "metadata": {},
   "outputs": [
    {
     "data": {
      "image/png": "[encoded data removed]",
      "text/plain": [
       "<Figure size 864x216 with 10 Axes>"
      ]
     },
     "metadata": {
      "needs_background": "light"
     },
     "output_type": "display_data"
    }
   ],
   "source": [
    "prng = np.random.RandomState(seed=123456789)  # seed to always re-draw the same distribution\n",
    "plt_ind = prng.randint(low=0, high=train_set_size, size=10)\n",
    "\n",
    "fig, axes = plt.subplots(1, 10, figsize=(12, 3))\n",
    "for ax, im, lb in zip(axes, train_images[plt_ind], train_labels[plt_ind]):\n",
    "    ax.imshow(im, cmap='gray')\n",
    "    ax.axis('off')\n",
    "    ax.set_title(lb)"
   ]
  },
  {
   "cell_type": "markdown",
   "metadata": {},
   "source": [
    "### 2.2 MLP (10 pts)\n",
    "\n",
    "To create an MLP you are free to choose any library.\n",
    "In case you don't have any preferences, we encourage you to use the [scikit-learn] package; it is a simple, efficient and free tool for data analysis and machine learning.\n",
    "In this [link][sklearn-example], you can find a basic example to see how to create and train an MLP using [scikit-learn].\n",
    "Your network should have the following properties:\n",
    "* Input `x`: 784-dimensional (i.e. 784 visible units representing the flattened 28x28 pixel images).\n",
    "* 100 hidden units `h`.\n",
    "* 10 output units `y`, i.e. the labels, with a value close to one in the i-th class representing a high probability of the input representing the digit `i`.\n",
    "\n",
    "If you need additional examples you can borrow some code from image classification tutorials.\n",
    "However, we recommend that you construct a minimal version of the network on your own to gain better insights.\n",
    "\n",
    "[scikit-learn]: http://scikit-learn.org/stable/index.html\n",
    "[sklearn-example]: http://scikit-learn.org/stable/modules/neural_networks_supervised.html"
   ]
  },
  {
   "cell_type": "markdown",
   "metadata": {},
   "source": [
    "#### Model Creation"
   ]
  },
  {
   "cell_type": "markdown",
   "metadata": {},
   "source": [
    "To create the MLP we will be using the library TensorFlow. "
   ]
  },
  {
   "cell_type": "code",
   "execution_count": 22,
   "metadata": {},
   "outputs": [],
   "source": [
    "# Add your implementation and discussion\n",
    "import tensorflow as tf\n",
    "import tensorflow.keras.layers as layers\n",
    "from tensorflow.keras.utils import to_categorical"
   ]
  },
  {
   "cell_type": "markdown",
   "metadata": {},
   "source": [
    "We begin by transforming the target variable (here the labels) in a categorical form rather than a numeric one. It will allow us to use losses such as Categorical Cross Entropy to train our deep network. We also flatten the images into arrays of shape $(1,784)$ because the input to a MLP is 1D. We loose some spatial structure but hope that the MLP will be able to retrieve them in the 1D vector."
   ]
  },
  {
   "cell_type": "code",
   "execution_count": 23,
   "metadata": {},
   "outputs": [],
   "source": [
    "train_labels_cat = to_categorical(train_labels, 10)\n",
    "test_labels_cat = to_categorical(test_labels, 10)\n",
    "train_images_flat = train_images.reshape((train_images.shape[0],28*28))\n",
    "test_images_flat = test_images.reshape((test_images.shape[0],28*28))"
   ]
  },
  {
   "cell_type": "markdown",
   "metadata": {},
   "source": [
    "We now create the model. It is composed of an input layer with 784 nodes. Then there are two dense layers of 50 units with Rectified Linear Unit activation function. We prefer ReLU as opposed to a sigmoid because of its ability to have non linearity even with small drive and it is less prone to vanishing gradient. We are unsure if the recommendation of the exercise was 100 hidden units in total or per hidden layer. We kept 100 hidden units in total but we should change the structure if it was not the case (to gain a bit of expressive power). \n",
    "\n",
    "Finally we have a layer of sigmoid functions to map to the 10 possible labels. Note that the output vector is not a probability distribution, but rather has as entries the probability that the digit has this label according to the model."
   ]
  },
  {
   "cell_type": "code",
   "execution_count": 24,
   "metadata": {},
   "outputs": [],
   "source": [
    "def MLP():\n",
    "    # Input layer\n",
    "    im_input = layers.Input(shape=28*28, name=\"image_input\")\n",
    "    # Hidden Layers\n",
    "    x = layers.Dense(units=50,activation=\"relu\")(im_input)\n",
    "    x = layers.Dense(units=50,activation=\"relu\")(x)\n",
    "    #x = layers.Dense(units=100,activation=\"relu\")(x)\n",
    "    # Output \n",
    "    x = layers.Dense(units=10,activation=\"sigmoid\")(x)\n",
    "    model = tf.keras.Model(inputs=im_input,outputs=x,name=\"MLP_MNIST\")\n",
    "    return model"
   ]
  },
  {
   "cell_type": "markdown",
   "metadata": {},
   "source": [
    "We use the Categorical Cross Entropy as loss function: $CE=-\\sum_{i=1}^{10}{y_i\\log(\\hat y_i)}$, where $y_i$ is 1 if $i$ is the ground truth label and 0 otherwise. And $\\hat y_i$ is the label probability prediction of the model."
   ]
  },
  {
   "cell_type": "code",
   "execution_count": 25,
   "metadata": {},
   "outputs": [],
   "source": [
    "def classification_loss(labels, output_net):\n",
    "    cce = tf.keras.losses.CategoricalCrossentropy()\n",
    "    return cce(labels,output_net)"
   ]
  },
  {
   "cell_type": "markdown",
   "metadata": {},
   "source": [
    "#### Model Training"
   ]
  },
  {
   "cell_type": "markdown",
   "metadata": {},
   "source": [
    "We then define the training pipeline. The model is trained using Stochastic Gradient Descent with a learning rate of 0.001. We use a batch version of the algorithm to have a better estimate of the gradient at each step (batch size = 16). We run over 10 epochs. "
   ]
  },
  {
   "cell_type": "code",
   "execution_count": 26,
   "metadata": {},
   "outputs": [],
   "source": [
    "@tf.function\n",
    "def train_step(model,digits,labels,criterion,optimizer):\n",
    "    \"\"\" Make a single training step. \"\"\"\n",
    "    num_batch, N = tf.keras.backend.int_shape(digits)  \n",
    "    # Define Gradient Tape\n",
    "    with tf.GradientTape() as tape:\n",
    "        # Get predictions for labels\n",
    "        output_net = model({'image_input': digits})\n",
    "        # Compute the loss\n",
    "        loss = criterion(labels, output_net)\n",
    "    # Compute gradients.\n",
    "    grads = tape.gradient(loss, model.trainable_variables)\n",
    "    # Update the trainable parameters.\n",
    "    optimizer.apply_gradients(zip(grads, model.trainable_variables))\n",
    "    return loss\n",
    "\n",
    "def training(train_data,train_label,epochs,batch_size,lr):\n",
    "    \"\"\" Perfom the training of the MLP. \"\"\"\n",
    "    # Batch the dataset.\n",
    "    from_tensor_slices = tf.data.Dataset.from_tensor_slices\n",
    "    x_train = from_tensor_slices(train_data).batch(batch_size)\n",
    "    x_label = from_tensor_slices(train_label).batch(batch_size)\n",
    "    # Create the model\n",
    "    model = MLP()\n",
    "    # optimizer set up\n",
    "    optimizer = tf.keras.optimizers.SGD(learning_rate=lr)\n",
    "    criterion = classification_loss\n",
    "    # Define the metrics to track training and testing losses.\n",
    "    m_train = tf.keras.metrics.Mean(name='loss_train')\n",
    "    for epoch in range(epochs):\n",
    "        m_train.reset_states()\n",
    "        for digits, labels in zip(x_train,x_label):\n",
    "            loss_train = train_step(model, digits, labels, criterion,\n",
    "                                    optimizer)\n",
    "            m_train.update_state(loss_train)\n",
    "        print(f\"Epoch: {epoch+1}/{epochs}\\tTrain Loss: {m_train.result()}\")\n",
    "    print('\\n')\n",
    "    return model"
   ]
  },
  {
   "cell_type": "code",
   "execution_count": 27,
   "metadata": {},
   "outputs": [
    {
     "name": "stdout",
     "output_type": "stream",
     "text": [
      "Epoch: 1/10\tTrain Loss: 1.1834958791732788\n",
      "Epoch: 2/10\tTrain Loss: 0.660178005695343\n",
      "Epoch: 3/10\tTrain Loss: 0.5091414451599121\n",
      "Epoch: 4/10\tTrain Loss: 0.4216517210006714\n",
      "Epoch: 5/10\tTrain Loss: 0.3613654375076294\n",
      "Epoch: 6/10\tTrain Loss: 0.32132723927497864\n",
      "Epoch: 7/10\tTrain Loss: 0.29788967967033386\n",
      "Epoch: 8/10\tTrain Loss: 0.2749994397163391\n",
      "Epoch: 9/10\tTrain Loss: 0.2599402964115143\n",
      "Epoch: 10/10\tTrain Loss: 0.24902397394180298\n",
      "\n",
      "\n"
     ]
    }
   ],
   "source": [
    "MLP_MNIST = training(train_images_flat,train_labels_cat,10,16,0.001)"
   ]
  },
  {
   "cell_type": "markdown",
   "metadata": {},
   "source": [
    "#### Model Assessment "
   ]
  },
  {
   "cell_type": "markdown",
   "metadata": {},
   "source": [
    "We will now evaluate the performance of the model on both the training set and the test set."
   ]
  },
  {
   "cell_type": "code",
   "execution_count": 28,
   "metadata": {},
   "outputs": [
    {
     "name": "stdout",
     "output_type": "stream",
     "text": [
      "1875/1875 [==============================] - 14s 7ms/step - loss: 0.2738 - accuracy: 0.9208\n",
      "313/313 [==============================] - 3s 9ms/step - loss: 0.3341 - accuracy: 0.9139\n",
      "Test results - Loss: 0.2737863063812256 - Accuracy: 0.9207500219345093%\n",
      "Test results - Loss: 0.3340546488761902 - Accuracy: 0.9139000177383423%\n"
     ]
    }
   ],
   "source": [
    "MLP_MNIST.compile(tf.keras.optimizers.SGD(),\n",
    "                  tf.keras.losses.CategoricalCrossentropy(), metrics=[\"accuracy\"])\n",
    "train_results = MLP_MNIST.evaluate(train_images_flat, train_labels_cat, verbose=1)\n",
    "test_results = MLP_MNIST.evaluate(test_images_flat, test_labels_cat, verbose=1)\n",
    "print(f'Test results - Loss: {train_results[0]} - Accuracy: {train_results[1]}%')\n",
    "print(f'Test results - Loss: {test_results[0]} - Accuracy: {test_results[1]}%')"
   ]
  },
  {
   "cell_type": "markdown",
   "metadata": {},
   "source": [
    "Eventhough we have a loss in accuracy between the training and test set, we have still some good results with an accuracy of around 92% on the test set.\n",
    "\n",
    "To improve the performance using a MLP we could have adjust more carefully the learning rate, normalize the images or choose another optimizer. An interesting metrics that we could have extracted is the class accuracy, which could have given indications of where the model has troubles. We then would have been able to add other features to try to improve the model."
   ]
  }
 ],
 "metadata": {
  "kernelspec": {
   "display_name": "Python 3",
   "language": "python",
   "name": "python3"
  },
  "language_info": {
   "codemirror_mode": {
    "name": "ipython",
    "version": 3
   },
   "file_extension": ".py",
   "mimetype": "text/x-python",
   "name": "python",
   "nbconvert_exporter": "python",
   "pygments_lexer": "ipython3",
   "version": "3.8.5"
  }
 },
 "nbformat": 4,
 "nbformat_minor": 2
}
